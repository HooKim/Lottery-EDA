{
 "cells": [
  {
   "cell_type": "markdown",
   "id": "1ddcb839",
   "metadata": {},
   "source": [
    "# 로또 데이터 분석 개요"
   ]
  },
  {
   "cell_type": "markdown",
   "id": "27cfa4c3",
   "metadata": {},
   "source": [
    "로또는 조작일까? 아닐까? 매주 평균 약 10명정도의 1등 당첨자가 나오면 1년에는 거의 500명 가까이가 1등에 당첨된다. 평균적인 당첨금액은 12억이다. 로또 조작을 주장하는 사람들은 다음과 같이 말한다:\n",
    "1. 정부가 서민이 벼락부자되는 것을 막기 위해서 유령 당첨자를 꾸준히 집어넣고 있다. 매주 10명이 나오는 건 말이 안된다.\n",
    "2. 실제로 당첨되는 사례를 보면 수동으로 여러개 당첨된 정황도 있다.\n",
    "3. 로또 번호 추첨은 실시간이 아니다. 약 실제 방송보다 10분정도 먼저 추첨이 진행된다고 한다. 그 사이에 조작을 하려면 충분히 할만한 시간이다. "
   ]
  },
  {
   "cell_type": "markdown",
   "id": "e385de80",
   "metadata": {},
   "source": [
    "로또를 가끔씩 구입한다. 그런데 구입할 때 마다 5줄에서 단 1,2 개 정도만 일치한다. \n",
    "그래서 생각을 해봤다. 만약 로또가 조작이라면 어떤 패턴이 있지 않을까? 좀 더 편향된 확률을 갖는 경향이 있지 않을까?\n",
    "이런 요행을 바라는 생각에서 해당 데이터 분석을 진행하게 됐다. 맞다. 부자되고 싶어서 데이터 분석을 진행한다.\n",
    "\n",
    "1047회차까지 분석"
   ]
  },
  {
   "cell_type": "markdown",
   "id": "ade6f1f9",
   "metadata": {},
   "source": [
    "# Raw Data\n",
    "\n",
    "web scraping으로 가져오기가 쉽지 않아서(버튼, POST, Selection 등) 그냥 엑셀 파일을 다운 받는 것으로 한다."
   ]
  },
  {
   "cell_type": "code",
   "execution_count": 1,
   "id": "953c1c85",
   "metadata": {},
   "outputs": [],
   "source": [
    "import pandas as pd\n",
    "import numpy as np"
   ]
  },
  {
   "cell_type": "code",
   "execution_count": 2,
   "id": "c45a221f",
   "metadata": {},
   "outputs": [],
   "source": [
    "#웹스크래핑으로 필요한 정보 가져오기\n",
    "from selenium import webdriver\n",
    "from selenium.webdriver.common.keys import Keys\n",
    "from selenium.webdriver.common.by import By\n",
    "from selenium.webdriver.support.ui import WebDriverWait\n",
    "from selenium.webdriver.support import expected_conditions as EC\n",
    "import time\n",
    "\n",
    "\n",
    "def web_scraping_total_sum():\n",
    "    total_sum = []\n",
    "\n",
    "    driver = webdriver.Chrome()\n",
    "    driver.get('https://dhlottery.co.kr/gameResult.do?method=byWin')\n",
    "\n",
    "\n",
    "    dropdown = driver.find_element(By.ID, \"dwrNoList\")\n",
    "    button = driver.find_element(By.ID, \"searchBtn\")\n",
    "    options = dropdown.find_elements(By.TAG_NAME, \"option\")\n",
    "    for idx in range(len(options)):\n",
    "        dropdown = driver.find_element(By.ID, \"dwrNoList\")\n",
    "        button = driver.find_element(By.ID, \"searchBtn\")\n",
    "        options = dropdown.find_elements(By.TAG_NAME, \"option\")\n",
    "        option = options[idx]\n",
    "        option.click()\n",
    "        driver.execute_script(\"arguments[0].click();\", WebDriverWait(driver, 20).until(EC.element_to_be_clickable(button)))\n",
    "        res = ''\n",
    "        for idx in driver.find_elements(By.CSS_SELECTOR, \".list_text_common\"):\n",
    "            res += idx.text\n",
    "        total_sum.append(res)    \n",
    "    return total_sum\n",
    "\n",
    "#res = web_scraping_total_sum()\n",
    "# res2 = list(map(lambda x : int(x.split()[-1][:-1].replace(',', '')), res))\n",
    "# res2\n",
    "# f = open(\"total_games.csv\", \"w\")\n",
    "# for item in res2:\n",
    "#     f.write(\"%s\\n\"%item)\n",
    "# f.close()\n",
    "res = pd.read_csv('total_games.csv', header=None)\n",
    "res.index = list(range(1047,0,-1))\n",
    "res.iloc[:, 0] = res.iloc[:, 0].map(lambda x : int(x / 1000))"
   ]
  },
  {
   "cell_type": "code",
   "execution_count": 3,
   "id": "dba444da",
   "metadata": {},
   "outputs": [
    {
     "data": {
      "text/html": [
       "<div>\n",
       "<style scoped>\n",
       "    .dataframe tbody tr th:only-of-type {\n",
       "        vertical-align: middle;\n",
       "    }\n",
       "\n",
       "    .dataframe tbody tr th {\n",
       "        vertical-align: top;\n",
       "    }\n",
       "\n",
       "    .dataframe thead th {\n",
       "        text-align: right;\n",
       "    }\n",
       "</style>\n",
       "<table border=\"1\" class=\"dataframe\">\n",
       "  <thead>\n",
       "    <tr style=\"text-align: right;\">\n",
       "      <th></th>\n",
       "      <th>date</th>\n",
       "      <th>1st</th>\n",
       "      <th>1st_prize</th>\n",
       "      <th>2nd</th>\n",
       "      <th>2nd_prize</th>\n",
       "      <th>3rd</th>\n",
       "      <th>3rd_prize</th>\n",
       "      <th>4th</th>\n",
       "      <th>4th_prize</th>\n",
       "      <th>5th</th>\n",
       "      <th>5th_prize</th>\n",
       "      <th>1</th>\n",
       "      <th>2</th>\n",
       "      <th>3</th>\n",
       "      <th>4</th>\n",
       "      <th>5</th>\n",
       "      <th>6</th>\n",
       "      <th>+</th>\n",
       "      <th>total</th>\n",
       "    </tr>\n",
       "    <tr>\n",
       "      <th>game_no</th>\n",
       "      <th></th>\n",
       "      <th></th>\n",
       "      <th></th>\n",
       "      <th></th>\n",
       "      <th></th>\n",
       "      <th></th>\n",
       "      <th></th>\n",
       "      <th></th>\n",
       "      <th></th>\n",
       "      <th></th>\n",
       "      <th></th>\n",
       "      <th></th>\n",
       "      <th></th>\n",
       "      <th></th>\n",
       "      <th></th>\n",
       "      <th></th>\n",
       "      <th></th>\n",
       "      <th></th>\n",
       "      <th></th>\n",
       "    </tr>\n",
       "  </thead>\n",
       "  <tbody>\n",
       "    <tr>\n",
       "      <th>1047</th>\n",
       "      <td>2022.12.24</td>\n",
       "      <td>9</td>\n",
       "      <td>2,748,797,875</td>\n",
       "      <td>83</td>\n",
       "      <td>49,677,071</td>\n",
       "      <td>2,728</td>\n",
       "      <td>1,511,436</td>\n",
       "      <td>139,530</td>\n",
       "      <td>50,000</td>\n",
       "      <td>2,313,403</td>\n",
       "      <td>5,000</td>\n",
       "      <td>2</td>\n",
       "      <td>20.0</td>\n",
       "      <td>33.0</td>\n",
       "      <td>40.0</td>\n",
       "      <td>42.0</td>\n",
       "      <td>44.0</td>\n",
       "      <td>32</td>\n",
       "      <td>103058179</td>\n",
       "    </tr>\n",
       "    <tr>\n",
       "      <th>1046</th>\n",
       "      <td>2022.12.17</td>\n",
       "      <td>12</td>\n",
       "      <td>2,011,415,719</td>\n",
       "      <td>57</td>\n",
       "      <td>70,575,991</td>\n",
       "      <td>2,959</td>\n",
       "      <td>1,359,524</td>\n",
       "      <td>139,560</td>\n",
       "      <td>50,000</td>\n",
       "      <td>2,260,269</td>\n",
       "      <td>5,000</td>\n",
       "      <td>7</td>\n",
       "      <td>16.0</td>\n",
       "      <td>25.0</td>\n",
       "      <td>29.0</td>\n",
       "      <td>35.0</td>\n",
       "      <td>36.0</td>\n",
       "      <td>28</td>\n",
       "      <td>100923993</td>\n",
       "    </tr>\n",
       "    <tr>\n",
       "      <th>1045</th>\n",
       "      <td>2022.12.10</td>\n",
       "      <td>13</td>\n",
       "      <td>1,990,060,443</td>\n",
       "      <td>67</td>\n",
       "      <td>64,355,189</td>\n",
       "      <td>2,699</td>\n",
       "      <td>1,597,554</td>\n",
       "      <td>135,872</td>\n",
       "      <td>50,000</td>\n",
       "      <td>2,280,432</td>\n",
       "      <td>5,000</td>\n",
       "      <td>6</td>\n",
       "      <td>14.0</td>\n",
       "      <td>15.0</td>\n",
       "      <td>19.0</td>\n",
       "      <td>21.0</td>\n",
       "      <td>41.0</td>\n",
       "      <td>37</td>\n",
       "      <td>105380282</td>\n",
       "    </tr>\n",
       "    <tr>\n",
       "      <th>1044</th>\n",
       "      <td>2022.12.03</td>\n",
       "      <td>8</td>\n",
       "      <td>3,136,941,235</td>\n",
       "      <td>72</td>\n",
       "      <td>58,091,505</td>\n",
       "      <td>2,597</td>\n",
       "      <td>1,610,547</td>\n",
       "      <td>134,226</td>\n",
       "      <td>50,000</td>\n",
       "      <td>2,254,796</td>\n",
       "      <td>5,000</td>\n",
       "      <td>12</td>\n",
       "      <td>17.0</td>\n",
       "      <td>20.0</td>\n",
       "      <td>26.0</td>\n",
       "      <td>28.0</td>\n",
       "      <td>36.0</td>\n",
       "      <td>4</td>\n",
       "      <td>102891973</td>\n",
       "    </tr>\n",
       "    <tr>\n",
       "      <th>1043</th>\n",
       "      <td>2022.11.26</td>\n",
       "      <td>17</td>\n",
       "      <td>1,468,646,956</td>\n",
       "      <td>86</td>\n",
       "      <td>48,385,656</td>\n",
       "      <td>3,156</td>\n",
       "      <td>1,318,494</td>\n",
       "      <td>155,087</td>\n",
       "      <td>50,000</td>\n",
       "      <td>2,495,858</td>\n",
       "      <td>5,000</td>\n",
       "      <td>3</td>\n",
       "      <td>5.0</td>\n",
       "      <td>12.0</td>\n",
       "      <td>22.0</td>\n",
       "      <td>26.0</td>\n",
       "      <td>31.0</td>\n",
       "      <td>19</td>\n",
       "      <td>107045942</td>\n",
       "    </tr>\n",
       "    <tr>\n",
       "      <th>...</th>\n",
       "      <td>...</td>\n",
       "      <td>...</td>\n",
       "      <td>...</td>\n",
       "      <td>...</td>\n",
       "      <td>...</td>\n",
       "      <td>...</td>\n",
       "      <td>...</td>\n",
       "      <td>...</td>\n",
       "      <td>...</td>\n",
       "      <td>...</td>\n",
       "      <td>...</td>\n",
       "      <td>...</td>\n",
       "      <td>...</td>\n",
       "      <td>...</td>\n",
       "      <td>...</td>\n",
       "      <td>...</td>\n",
       "      <td>...</td>\n",
       "      <td>...</td>\n",
       "      <td>...</td>\n",
       "    </tr>\n",
       "    <tr>\n",
       "      <th>5</th>\n",
       "      <td>2003.01.04</td>\n",
       "      <td>0</td>\n",
       "      <td>0</td>\n",
       "      <td>0</td>\n",
       "      <td>0</td>\n",
       "      <td>42</td>\n",
       "      <td>6,033,800</td>\n",
       "      <td>3,043</td>\n",
       "      <td>166,500</td>\n",
       "      <td>60,434</td>\n",
       "      <td>10,000</td>\n",
       "      <td>16</td>\n",
       "      <td>24.0</td>\n",
       "      <td>29.0</td>\n",
       "      <td>40.0</td>\n",
       "      <td>41.0</td>\n",
       "      <td>42.0</td>\n",
       "      <td>3</td>\n",
       "      <td>6277102</td>\n",
       "    </tr>\n",
       "    <tr>\n",
       "      <th>4</th>\n",
       "      <td>2002.12.28</td>\n",
       "      <td>0</td>\n",
       "      <td>0</td>\n",
       "      <td>1</td>\n",
       "      <td>211,191,200</td>\n",
       "      <td>29</td>\n",
       "      <td>7,282,400</td>\n",
       "      <td>2,777</td>\n",
       "      <td>152,100</td>\n",
       "      <td>52,382</td>\n",
       "      <td>10,000</td>\n",
       "      <td>14</td>\n",
       "      <td>27.0</td>\n",
       "      <td>30.0</td>\n",
       "      <td>31.0</td>\n",
       "      <td>40.0</td>\n",
       "      <td>42.0</td>\n",
       "      <td>2</td>\n",
       "      <td>5271464</td>\n",
       "    </tr>\n",
       "    <tr>\n",
       "      <th>3</th>\n",
       "      <td>2002.12.21</td>\n",
       "      <td>1</td>\n",
       "      <td>2,000,000,000</td>\n",
       "      <td>0</td>\n",
       "      <td>0</td>\n",
       "      <td>139</td>\n",
       "      <td>1,174,100</td>\n",
       "      <td>5,940</td>\n",
       "      <td>54,900</td>\n",
       "      <td>73,256</td>\n",
       "      <td>10,000</td>\n",
       "      <td>11</td>\n",
       "      <td>16.0</td>\n",
       "      <td>19.0</td>\n",
       "      <td>21.0</td>\n",
       "      <td>27.0</td>\n",
       "      <td>31.0</td>\n",
       "      <td>30</td>\n",
       "      <td>4729342</td>\n",
       "    </tr>\n",
       "    <tr>\n",
       "      <th>2</th>\n",
       "      <td>2002.12.14</td>\n",
       "      <td>1</td>\n",
       "      <td>2,002,006,800</td>\n",
       "      <td>2</td>\n",
       "      <td>94,866,800</td>\n",
       "      <td>103</td>\n",
       "      <td>1,842,000</td>\n",
       "      <td>3,763</td>\n",
       "      <td>100,800</td>\n",
       "      <td>55,480</td>\n",
       "      <td>10,000</td>\n",
       "      <td>9</td>\n",
       "      <td>13.0</td>\n",
       "      <td>21.0</td>\n",
       "      <td>25.0</td>\n",
       "      <td>32.0</td>\n",
       "      <td>42.0</td>\n",
       "      <td>2</td>\n",
       "      <td>4904274</td>\n",
       "    </tr>\n",
       "    <tr>\n",
       "      <th>1</th>\n",
       "      <td>2002.12.07</td>\n",
       "      <td>0</td>\n",
       "      <td>0</td>\n",
       "      <td>1</td>\n",
       "      <td>143,934,100</td>\n",
       "      <td>28</td>\n",
       "      <td>5,140,500</td>\n",
       "      <td>2,537</td>\n",
       "      <td>113,400</td>\n",
       "      <td>40,155</td>\n",
       "      <td>10,000</td>\n",
       "      <td>10</td>\n",
       "      <td>23.0</td>\n",
       "      <td>29.0</td>\n",
       "      <td>33.0</td>\n",
       "      <td>37.0</td>\n",
       "      <td>40.0</td>\n",
       "      <td>16</td>\n",
       "      <td>3681782</td>\n",
       "    </tr>\n",
       "  </tbody>\n",
       "</table>\n",
       "<p>1047 rows × 19 columns</p>\n",
       "</div>"
      ],
      "text/plain": [
       "               date 1st      1st_prize 2nd    2nd_prize    3rd  3rd_prize  \\\n",
       "game_no                                                                     \n",
       "1047     2022.12.24   9  2,748,797,875  83   49,677,071  2,728  1,511,436   \n",
       "1046     2022.12.17  12  2,011,415,719  57   70,575,991  2,959  1,359,524   \n",
       "1045     2022.12.10  13  1,990,060,443  67   64,355,189  2,699  1,597,554   \n",
       "1044     2022.12.03   8  3,136,941,235  72   58,091,505  2,597  1,610,547   \n",
       "1043     2022.11.26  17  1,468,646,956  86   48,385,656  3,156  1,318,494   \n",
       "...             ...  ..            ...  ..          ...    ...        ...   \n",
       "5        2003.01.04   0              0   0            0     42  6,033,800   \n",
       "4        2002.12.28   0              0   1  211,191,200     29  7,282,400   \n",
       "3        2002.12.21   1  2,000,000,000   0            0    139  1,174,100   \n",
       "2        2002.12.14   1  2,002,006,800   2   94,866,800    103  1,842,000   \n",
       "1        2002.12.07   0              0   1  143,934,100     28  5,140,500   \n",
       "\n",
       "             4th 4th_prize        5th 5th_prize   1     2     3     4     5  \\\n",
       "game_no                                                                       \n",
       "1047     139,530    50,000  2,313,403     5,000   2  20.0  33.0  40.0  42.0   \n",
       "1046     139,560    50,000  2,260,269     5,000   7  16.0  25.0  29.0  35.0   \n",
       "1045     135,872    50,000  2,280,432     5,000   6  14.0  15.0  19.0  21.0   \n",
       "1044     134,226    50,000  2,254,796     5,000  12  17.0  20.0  26.0  28.0   \n",
       "1043     155,087    50,000  2,495,858     5,000   3   5.0  12.0  22.0  26.0   \n",
       "...          ...       ...        ...       ...  ..   ...   ...   ...   ...   \n",
       "5          3,043   166,500     60,434    10,000  16  24.0  29.0  40.0  41.0   \n",
       "4          2,777   152,100     52,382    10,000  14  27.0  30.0  31.0  40.0   \n",
       "3          5,940    54,900     73,256    10,000  11  16.0  19.0  21.0  27.0   \n",
       "2          3,763   100,800     55,480    10,000   9  13.0  21.0  25.0  32.0   \n",
       "1          2,537   113,400     40,155    10,000  10  23.0  29.0  33.0  37.0   \n",
       "\n",
       "            6   +      total  \n",
       "game_no                       \n",
       "1047     44.0  32  103058179  \n",
       "1046     36.0  28  100923993  \n",
       "1045     41.0  37  105380282  \n",
       "1044     36.0   4  102891973  \n",
       "1043     31.0  19  107045942  \n",
       "...       ...  ..        ...  \n",
       "5        42.0   3    6277102  \n",
       "4        42.0   2    5271464  \n",
       "3        31.0  30    4729342  \n",
       "2        42.0   2    4904274  \n",
       "1        40.0  16    3681782  \n",
       "\n",
       "[1047 rows x 19 columns]"
      ]
     },
     "execution_count": 3,
     "metadata": {},
     "output_type": "execute_result"
    }
   ],
   "source": [
    "#데이터 전처리 \n",
    "df = pd.read_csv('rawdata.csv')\n",
    "df.drop(df.iloc[:,0].name, axis = 1, inplace = True)\n",
    "df.drop([0, 1], inplace = True)\n",
    "df.reset_index(inplace =True)\n",
    "df.drop('index', axis = 1, inplace = True)\n",
    "\n",
    "df.columns = ['game_no','date', '1st', '1st_prize', '2nd', '2nd_prize', \n",
    "             '3rd', '3rd_prize', '4th', '4th_prize', '5th', '5th_prize',\n",
    "             '1', '2', '3', '4', '5', '6', '+']\n",
    "game_1047 = ['1047', '2022.12.24', '9', '2,748,797,875', '83', '49,677,071', '2,728', '1,511,436', '139,530', '50,000', '2,313,403', '5,000', 2, 20, 33, 40, 42, 44, 32]\n",
    "df = df.append(pd.DataFrame([game_1047], columns=df.columns), ignore_index=True)\n",
    "df.index = df['game_no'].map(int)\n",
    "df = df.drop('game_no', axis = 1)\n",
    "df = df.sort_index(ascending=False)\n",
    "df['total'] = res\n",
    "df"
   ]
  },
  {
   "cell_type": "code",
   "execution_count": 4,
   "id": "8ad0f10a",
   "metadata": {},
   "outputs": [],
   "source": [
    "#날짜 정보 년, 월로 분리하고 데이터 프레임의 기존 날짜 정보와 교체하기\n",
    "date_format = df['date'].map(lambda x : x.split('.'))\n",
    "year = date_format.map(lambda x : x[0])\n",
    "month = date_format.map(lambda x : x[1])\n",
    "df.drop('date', axis=1, inplace = True)\n",
    "df.loc[:,'year'] = year\n",
    "df.loc[:,'month'] = month"
   ]
  },
  {
   "cell_type": "code",
   "execution_count": 5,
   "id": "ca53b5ca",
   "metadata": {},
   "outputs": [],
   "source": [
    "# 데이터 프레임 column 위치 reorder하기\n",
    "new_column_order = list([df.columns[0]]) + list(df.columns[-2:]) + list(df.columns[1:-2])\n",
    "new_column_order\n",
    "df = df[new_column_order]"
   ]
  },
  {
   "cell_type": "markdown",
   "id": "f63e80f9",
   "metadata": {},
   "source": [
    "# Q1. 상금 통계량 확인하기\n",
    "\n",
    "과연 각각의 상금과 관련된 값들은 어떤 통계량을 갖고 있는지 대략 확인한다."
   ]
  },
  {
   "cell_type": "code",
   "execution_count": 6,
   "id": "ab7fb9ae",
   "metadata": {},
   "outputs": [],
   "source": [
    "#통계량을 구하기 위해서는 데이터의 타입이 int형일 필요가 있다. 현재 모든 데이터들이 문자형으로 저장되어 있어서\n",
    "#제대로 된 통계량이 나오지 않고 있다. \n",
    "\n",
    "target= ['1st', '1st_prize', '2nd', '2nd_prize', '3rd', '3rd_prize',\n",
    "          '4th', '4th_prize','5th', '5th_prize'] \n",
    "for col in target:\n",
    "    df[col] = df[col].map(lambda x : x.replace(',', ''))\n",
    "    df[col] = df[col].map(int)\n"
   ]
  },
  {
   "cell_type": "code",
   "execution_count": 7,
   "id": "f06037ba",
   "metadata": {},
   "outputs": [],
   "source": [
    "df = df.astype(int)"
   ]
  },
  {
   "cell_type": "code",
   "execution_count": 8,
   "id": "6c21b781",
   "metadata": {},
   "outputs": [],
   "source": [
    "info = df.describe()"
   ]
  },
  {
   "cell_type": "code",
   "execution_count": 9,
   "id": "3ca10310",
   "metadata": {},
   "outputs": [],
   "source": [
    "# 조단위 까지만 구현\n",
    "def division2String(val, div):\n",
    "    if val % div:\n",
    "        return str(int(val%div))\n",
    "    else:\n",
    "        return ''\n",
    "\n",
    "def unitInKorean(value):\n",
    "    if type(value) != int:\n",
    "        return value\n",
    "    \n",
    "    res = division2String(value, 1e4)\n",
    "    value = value // 1e4\n",
    "    if value:\n",
    "        res = division2String(value, 1e4) + '만 ' + res\n",
    "        value = value // 1e4\n",
    "    if value:\n",
    "        res = division2String(value, 1e4) + '억 ' + res\n",
    "        value = value // 1e4\n",
    "    if value:\n",
    "        res = division2String(value, 1e4) + '조 ' + res\n",
    "    if res == '':\n",
    "        return '0'\n",
    "    else:\n",
    "        return res"
   ]
  },
  {
   "cell_type": "code",
   "execution_count": 10,
   "id": "715fff30",
   "metadata": {},
   "outputs": [],
   "source": [
    "# 통계량을 한국어 단위로 변환하기\n",
    "for idx in range(10):\n",
    "    info.iloc[:, idx] = info.iloc[:, idx].map(int).map(unitInKorean)"
   ]
  },
  {
   "cell_type": "code",
   "execution_count": 11,
   "id": "8bfcedcd",
   "metadata": {},
   "outputs": [
    {
     "data": {
      "text/html": [
       "<div>\n",
       "<style scoped>\n",
       "    .dataframe tbody tr th:only-of-type {\n",
       "        vertical-align: middle;\n",
       "    }\n",
       "\n",
       "    .dataframe tbody tr th {\n",
       "        vertical-align: top;\n",
       "    }\n",
       "\n",
       "    .dataframe thead th {\n",
       "        text-align: right;\n",
       "    }\n",
       "</style>\n",
       "<table border=\"1\" class=\"dataframe\">\n",
       "  <thead>\n",
       "    <tr style=\"text-align: right;\">\n",
       "      <th></th>\n",
       "      <th>1st</th>\n",
       "      <th>year</th>\n",
       "      <th>month</th>\n",
       "      <th>1st_prize</th>\n",
       "      <th>2nd</th>\n",
       "      <th>2nd_prize</th>\n",
       "      <th>3rd</th>\n",
       "      <th>3rd_prize</th>\n",
       "      <th>4th</th>\n",
       "      <th>4th_prize</th>\n",
       "      <th>5th</th>\n",
       "      <th>5th_prize</th>\n",
       "      <th>1</th>\n",
       "    </tr>\n",
       "  </thead>\n",
       "  <tbody>\n",
       "    <tr>\n",
       "      <th>max</th>\n",
       "      <td>50</td>\n",
       "      <td>2022</td>\n",
       "      <td>12</td>\n",
       "      <td>407억 2295만 9400</td>\n",
       "      <td>236</td>\n",
       "      <td>7억 6945만 6500</td>\n",
       "      <td>1만 1247</td>\n",
       "      <td>930만 7100</td>\n",
       "      <td>70만 3234</td>\n",
       "      <td>26만</td>\n",
       "      <td>3.410846e+06</td>\n",
       "      <td>10000.000000</td>\n",
       "      <td>35.000000</td>\n",
       "    </tr>\n",
       "    <tr>\n",
       "      <th>mean</th>\n",
       "      <td>7</td>\n",
       "      <td>2012</td>\n",
       "      <td>6</td>\n",
       "      <td>27억 1370만 9116</td>\n",
       "      <td>44</td>\n",
       "      <td>6408만 8771</td>\n",
       "      <td>1714</td>\n",
       "      <td>160만 514</td>\n",
       "      <td>8만 4167</td>\n",
       "      <td>5만 8082</td>\n",
       "      <td>1.378470e+06</td>\n",
       "      <td>5415.472779</td>\n",
       "      <td>6.663801</td>\n",
       "    </tr>\n",
       "    <tr>\n",
       "      <th>min</th>\n",
       "      <td>0</td>\n",
       "      <td>2002</td>\n",
       "      <td>1</td>\n",
       "      <td>0</td>\n",
       "      <td>0</td>\n",
       "      <td>0</td>\n",
       "      <td>28</td>\n",
       "      <td>62만 7634</td>\n",
       "      <td>2537</td>\n",
       "      <td>2만 7300</td>\n",
       "      <td>4.015500e+04</td>\n",
       "      <td>5000.000000</td>\n",
       "      <td>1.000000</td>\n",
       "    </tr>\n",
       "    <tr>\n",
       "      <th>25%</th>\n",
       "      <td>5</td>\n",
       "      <td>2007</td>\n",
       "      <td>4</td>\n",
       "      <td>15억 3941만 7019</td>\n",
       "      <td>32</td>\n",
       "      <td>4912만 142</td>\n",
       "      <td>1271</td>\n",
       "      <td>135만 2378</td>\n",
       "      <td>6만 2938</td>\n",
       "      <td>5만</td>\n",
       "      <td>1.039282e+06</td>\n",
       "      <td>5000.000000</td>\n",
       "      <td>2.000000</td>\n",
       "    </tr>\n",
       "    <tr>\n",
       "      <th>50%</th>\n",
       "      <td>7</td>\n",
       "      <td>2012</td>\n",
       "      <td>7</td>\n",
       "      <td>20억 7896만 9954</td>\n",
       "      <td>42</td>\n",
       "      <td>5721만 9946</td>\n",
       "      <td>1561</td>\n",
       "      <td>148만 1277</td>\n",
       "      <td>7만 7138</td>\n",
       "      <td>5만</td>\n",
       "      <td>1.267826e+06</td>\n",
       "      <td>5000.000000</td>\n",
       "      <td>5.000000</td>\n",
       "    </tr>\n",
       "  </tbody>\n",
       "</table>\n",
       "</div>"
      ],
      "text/plain": [
       "     1st  year month        1st_prize  2nd      2nd_prize      3rd  3rd_prize  \\\n",
       "max   50  2022    12  407억 2295만 9400  236  7억 6945만 6500  1만 1247  930만 7100   \n",
       "mean   7  2012     6   27억 1370만 9116   44     6408만 8771     1714   160만 514   \n",
       "min    0  2002     1                0    0              0       28   62만 7634   \n",
       "25%    5  2007     4   15억 3941만 7019   32      4912만 142     1271  135만 2378   \n",
       "50%    7  2012     7   20억 7896만 9954   42     5721만 9946     1561  148만 1277   \n",
       "\n",
       "           4th 4th_prize           5th     5th_prize          1  \n",
       "max   70만 3234      26만   3.410846e+06  10000.000000  35.000000  \n",
       "mean   8만 4167   5만 8082  1.378470e+06   5415.472779   6.663801  \n",
       "min       2537   2만 7300  4.015500e+04   5000.000000   1.000000  \n",
       "25%    6만 2938       5만   1.039282e+06   5000.000000   2.000000  \n",
       "50%    7만 7138       5만   1.267826e+06   5000.000000   5.000000  "
      ]
     },
     "execution_count": 11,
     "metadata": {},
     "output_type": "execute_result"
    }
   ],
   "source": [
    "prize_stat = info.loc[['max', 'mean', 'min', '25%', '50%']].iloc[:,:13]\n",
    "prize_stat"
   ]
  },
  {
   "cell_type": "markdown",
   "id": "ab549595",
   "metadata": {},
   "source": [
    "### Q1 분석결과-1\n",
    "1. 역대 1등 최대 당첨자 수가 무려 50명이다.\n",
    "2. 평균적으로 7명정도가 매주 1등 당첨된다고 볼 수 있다.\n",
    "3. 보통 20억 내외로 1등 당첨금을 받는다.\n",
    "4. 부산인구에 상당하는 수가 5등당첨으로 1만원을 탄 적이 있다."
   ]
  },
  {
   "cell_type": "code",
   "execution_count": 12,
   "id": "1789cc5c",
   "metadata": {},
   "outputs": [
    {
     "data": {
      "text/html": [
       "<div>\n",
       "<style scoped>\n",
       "    .dataframe tbody tr th:only-of-type {\n",
       "        vertical-align: middle;\n",
       "    }\n",
       "\n",
       "    .dataframe tbody tr th {\n",
       "        vertical-align: top;\n",
       "    }\n",
       "\n",
       "    .dataframe thead th {\n",
       "        text-align: right;\n",
       "    }\n",
       "</style>\n",
       "<table border=\"1\" class=\"dataframe\">\n",
       "  <thead>\n",
       "    <tr style=\"text-align: right;\">\n",
       "      <th></th>\n",
       "      <th>1st</th>\n",
       "      <th>year</th>\n",
       "      <th>month</th>\n",
       "      <th>1st_prize</th>\n",
       "      <th>2nd</th>\n",
       "      <th>2nd_prize</th>\n",
       "      <th>3rd</th>\n",
       "      <th>3rd_prize</th>\n",
       "      <th>4th</th>\n",
       "      <th>4th_prize</th>\n",
       "      <th>5th</th>\n",
       "      <th>5th_prize</th>\n",
       "      <th>1</th>\n",
       "      <th>2</th>\n",
       "      <th>3</th>\n",
       "      <th>4</th>\n",
       "      <th>5</th>\n",
       "      <th>6</th>\n",
       "      <th>+</th>\n",
       "      <th>total</th>\n",
       "    </tr>\n",
       "    <tr>\n",
       "      <th>game_no</th>\n",
       "      <th></th>\n",
       "      <th></th>\n",
       "      <th></th>\n",
       "      <th></th>\n",
       "      <th></th>\n",
       "      <th></th>\n",
       "      <th></th>\n",
       "      <th></th>\n",
       "      <th></th>\n",
       "      <th></th>\n",
       "      <th></th>\n",
       "      <th></th>\n",
       "      <th></th>\n",
       "      <th></th>\n",
       "      <th></th>\n",
       "      <th></th>\n",
       "      <th></th>\n",
       "      <th></th>\n",
       "      <th></th>\n",
       "      <th></th>\n",
       "    </tr>\n",
       "  </thead>\n",
       "  <tbody>\n",
       "    <tr>\n",
       "      <th>1047</th>\n",
       "      <td>9</td>\n",
       "      <td>2022</td>\n",
       "      <td>12</td>\n",
       "      <td>2748797875</td>\n",
       "      <td>83</td>\n",
       "      <td>49677071</td>\n",
       "      <td>2728</td>\n",
       "      <td>1511436</td>\n",
       "      <td>139530</td>\n",
       "      <td>50000</td>\n",
       "      <td>2313403</td>\n",
       "      <td>5000</td>\n",
       "      <td>2</td>\n",
       "      <td>20</td>\n",
       "      <td>33</td>\n",
       "      <td>40</td>\n",
       "      <td>42</td>\n",
       "      <td>44</td>\n",
       "      <td>32</td>\n",
       "      <td>103058179</td>\n",
       "    </tr>\n",
       "    <tr>\n",
       "      <th>1046</th>\n",
       "      <td>12</td>\n",
       "      <td>2022</td>\n",
       "      <td>12</td>\n",
       "      <td>2011415719</td>\n",
       "      <td>57</td>\n",
       "      <td>70575991</td>\n",
       "      <td>2959</td>\n",
       "      <td>1359524</td>\n",
       "      <td>139560</td>\n",
       "      <td>50000</td>\n",
       "      <td>2260269</td>\n",
       "      <td>5000</td>\n",
       "      <td>7</td>\n",
       "      <td>16</td>\n",
       "      <td>25</td>\n",
       "      <td>29</td>\n",
       "      <td>35</td>\n",
       "      <td>36</td>\n",
       "      <td>28</td>\n",
       "      <td>100923993</td>\n",
       "    </tr>\n",
       "    <tr>\n",
       "      <th>1045</th>\n",
       "      <td>13</td>\n",
       "      <td>2022</td>\n",
       "      <td>12</td>\n",
       "      <td>1990060443</td>\n",
       "      <td>67</td>\n",
       "      <td>64355189</td>\n",
       "      <td>2699</td>\n",
       "      <td>1597554</td>\n",
       "      <td>135872</td>\n",
       "      <td>50000</td>\n",
       "      <td>2280432</td>\n",
       "      <td>5000</td>\n",
       "      <td>6</td>\n",
       "      <td>14</td>\n",
       "      <td>15</td>\n",
       "      <td>19</td>\n",
       "      <td>21</td>\n",
       "      <td>41</td>\n",
       "      <td>37</td>\n",
       "      <td>105380282</td>\n",
       "    </tr>\n",
       "    <tr>\n",
       "      <th>1044</th>\n",
       "      <td>8</td>\n",
       "      <td>2022</td>\n",
       "      <td>12</td>\n",
       "      <td>3136941235</td>\n",
       "      <td>72</td>\n",
       "      <td>58091505</td>\n",
       "      <td>2597</td>\n",
       "      <td>1610547</td>\n",
       "      <td>134226</td>\n",
       "      <td>50000</td>\n",
       "      <td>2254796</td>\n",
       "      <td>5000</td>\n",
       "      <td>12</td>\n",
       "      <td>17</td>\n",
       "      <td>20</td>\n",
       "      <td>26</td>\n",
       "      <td>28</td>\n",
       "      <td>36</td>\n",
       "      <td>4</td>\n",
       "      <td>102891973</td>\n",
       "    </tr>\n",
       "    <tr>\n",
       "      <th>1043</th>\n",
       "      <td>17</td>\n",
       "      <td>2022</td>\n",
       "      <td>11</td>\n",
       "      <td>1468646956</td>\n",
       "      <td>86</td>\n",
       "      <td>48385656</td>\n",
       "      <td>3156</td>\n",
       "      <td>1318494</td>\n",
       "      <td>155087</td>\n",
       "      <td>50000</td>\n",
       "      <td>2495858</td>\n",
       "      <td>5000</td>\n",
       "      <td>3</td>\n",
       "      <td>5</td>\n",
       "      <td>12</td>\n",
       "      <td>22</td>\n",
       "      <td>26</td>\n",
       "      <td>31</td>\n",
       "      <td>19</td>\n",
       "      <td>107045942</td>\n",
       "    </tr>\n",
       "    <tr>\n",
       "      <th>...</th>\n",
       "      <td>...</td>\n",
       "      <td>...</td>\n",
       "      <td>...</td>\n",
       "      <td>...</td>\n",
       "      <td>...</td>\n",
       "      <td>...</td>\n",
       "      <td>...</td>\n",
       "      <td>...</td>\n",
       "      <td>...</td>\n",
       "      <td>...</td>\n",
       "      <td>...</td>\n",
       "      <td>...</td>\n",
       "      <td>...</td>\n",
       "      <td>...</td>\n",
       "      <td>...</td>\n",
       "      <td>...</td>\n",
       "      <td>...</td>\n",
       "      <td>...</td>\n",
       "      <td>...</td>\n",
       "      <td>...</td>\n",
       "    </tr>\n",
       "    <tr>\n",
       "      <th>5</th>\n",
       "      <td>0</td>\n",
       "      <td>2003</td>\n",
       "      <td>1</td>\n",
       "      <td>0</td>\n",
       "      <td>0</td>\n",
       "      <td>0</td>\n",
       "      <td>42</td>\n",
       "      <td>6033800</td>\n",
       "      <td>3043</td>\n",
       "      <td>166500</td>\n",
       "      <td>60434</td>\n",
       "      <td>10000</td>\n",
       "      <td>16</td>\n",
       "      <td>24</td>\n",
       "      <td>29</td>\n",
       "      <td>40</td>\n",
       "      <td>41</td>\n",
       "      <td>42</td>\n",
       "      <td>3</td>\n",
       "      <td>6277102</td>\n",
       "    </tr>\n",
       "    <tr>\n",
       "      <th>4</th>\n",
       "      <td>0</td>\n",
       "      <td>2002</td>\n",
       "      <td>12</td>\n",
       "      <td>0</td>\n",
       "      <td>1</td>\n",
       "      <td>211191200</td>\n",
       "      <td>29</td>\n",
       "      <td>7282400</td>\n",
       "      <td>2777</td>\n",
       "      <td>152100</td>\n",
       "      <td>52382</td>\n",
       "      <td>10000</td>\n",
       "      <td>14</td>\n",
       "      <td>27</td>\n",
       "      <td>30</td>\n",
       "      <td>31</td>\n",
       "      <td>40</td>\n",
       "      <td>42</td>\n",
       "      <td>2</td>\n",
       "      <td>5271464</td>\n",
       "    </tr>\n",
       "    <tr>\n",
       "      <th>3</th>\n",
       "      <td>1</td>\n",
       "      <td>2002</td>\n",
       "      <td>12</td>\n",
       "      <td>2000000000</td>\n",
       "      <td>0</td>\n",
       "      <td>0</td>\n",
       "      <td>139</td>\n",
       "      <td>1174100</td>\n",
       "      <td>5940</td>\n",
       "      <td>54900</td>\n",
       "      <td>73256</td>\n",
       "      <td>10000</td>\n",
       "      <td>11</td>\n",
       "      <td>16</td>\n",
       "      <td>19</td>\n",
       "      <td>21</td>\n",
       "      <td>27</td>\n",
       "      <td>31</td>\n",
       "      <td>30</td>\n",
       "      <td>4729342</td>\n",
       "    </tr>\n",
       "    <tr>\n",
       "      <th>2</th>\n",
       "      <td>1</td>\n",
       "      <td>2002</td>\n",
       "      <td>12</td>\n",
       "      <td>2002006800</td>\n",
       "      <td>2</td>\n",
       "      <td>94866800</td>\n",
       "      <td>103</td>\n",
       "      <td>1842000</td>\n",
       "      <td>3763</td>\n",
       "      <td>100800</td>\n",
       "      <td>55480</td>\n",
       "      <td>10000</td>\n",
       "      <td>9</td>\n",
       "      <td>13</td>\n",
       "      <td>21</td>\n",
       "      <td>25</td>\n",
       "      <td>32</td>\n",
       "      <td>42</td>\n",
       "      <td>2</td>\n",
       "      <td>4904274</td>\n",
       "    </tr>\n",
       "    <tr>\n",
       "      <th>1</th>\n",
       "      <td>0</td>\n",
       "      <td>2002</td>\n",
       "      <td>12</td>\n",
       "      <td>0</td>\n",
       "      <td>1</td>\n",
       "      <td>143934100</td>\n",
       "      <td>28</td>\n",
       "      <td>5140500</td>\n",
       "      <td>2537</td>\n",
       "      <td>113400</td>\n",
       "      <td>40155</td>\n",
       "      <td>10000</td>\n",
       "      <td>10</td>\n",
       "      <td>23</td>\n",
       "      <td>29</td>\n",
       "      <td>33</td>\n",
       "      <td>37</td>\n",
       "      <td>40</td>\n",
       "      <td>16</td>\n",
       "      <td>3681782</td>\n",
       "    </tr>\n",
       "  </tbody>\n",
       "</table>\n",
       "<p>1047 rows × 20 columns</p>\n",
       "</div>"
      ],
      "text/plain": [
       "         1st  year  month   1st_prize  2nd  2nd_prize   3rd  3rd_prize  \\\n",
       "game_no                                                                  \n",
       "1047       9  2022     12  2748797875   83   49677071  2728    1511436   \n",
       "1046      12  2022     12  2011415719   57   70575991  2959    1359524   \n",
       "1045      13  2022     12  1990060443   67   64355189  2699    1597554   \n",
       "1044       8  2022     12  3136941235   72   58091505  2597    1610547   \n",
       "1043      17  2022     11  1468646956   86   48385656  3156    1318494   \n",
       "...      ...   ...    ...         ...  ...        ...   ...        ...   \n",
       "5          0  2003      1           0    0          0    42    6033800   \n",
       "4          0  2002     12           0    1  211191200    29    7282400   \n",
       "3          1  2002     12  2000000000    0          0   139    1174100   \n",
       "2          1  2002     12  2002006800    2   94866800   103    1842000   \n",
       "1          0  2002     12           0    1  143934100    28    5140500   \n",
       "\n",
       "            4th  4th_prize      5th  5th_prize   1   2   3   4   5   6   +  \\\n",
       "game_no                                                                      \n",
       "1047     139530      50000  2313403       5000   2  20  33  40  42  44  32   \n",
       "1046     139560      50000  2260269       5000   7  16  25  29  35  36  28   \n",
       "1045     135872      50000  2280432       5000   6  14  15  19  21  41  37   \n",
       "1044     134226      50000  2254796       5000  12  17  20  26  28  36   4   \n",
       "1043     155087      50000  2495858       5000   3   5  12  22  26  31  19   \n",
       "...         ...        ...      ...        ...  ..  ..  ..  ..  ..  ..  ..   \n",
       "5          3043     166500    60434      10000  16  24  29  40  41  42   3   \n",
       "4          2777     152100    52382      10000  14  27  30  31  40  42   2   \n",
       "3          5940      54900    73256      10000  11  16  19  21  27  31  30   \n",
       "2          3763     100800    55480      10000   9  13  21  25  32  42   2   \n",
       "1          2537     113400    40155      10000  10  23  29  33  37  40  16   \n",
       "\n",
       "             total  \n",
       "game_no             \n",
       "1047     103058179  \n",
       "1046     100923993  \n",
       "1045     105380282  \n",
       "1044     102891973  \n",
       "1043     107045942  \n",
       "...            ...  \n",
       "5          6277102  \n",
       "4          5271464  \n",
       "3          4729342  \n",
       "2          4904274  \n",
       "1          3681782  \n",
       "\n",
       "[1047 rows x 20 columns]"
      ]
     },
     "execution_count": 12,
     "metadata": {},
     "output_type": "execute_result"
    }
   ],
   "source": [
    "df"
   ]
  },
  {
   "cell_type": "code",
   "execution_count": 13,
   "id": "6ca81751",
   "metadata": {},
   "outputs": [
    {
     "data": {
      "text/html": [
       "<div>\n",
       "<style scoped>\n",
       "    .dataframe tbody tr th:only-of-type {\n",
       "        vertical-align: middle;\n",
       "    }\n",
       "\n",
       "    .dataframe tbody tr th {\n",
       "        vertical-align: top;\n",
       "    }\n",
       "\n",
       "    .dataframe thead th {\n",
       "        text-align: right;\n",
       "    }\n",
       "</style>\n",
       "<table border=\"1\" class=\"dataframe\">\n",
       "  <thead>\n",
       "    <tr style=\"text-align: right;\">\n",
       "      <th></th>\n",
       "      <th>1st</th>\n",
       "      <th>year</th>\n",
       "      <th>month</th>\n",
       "      <th>1st_prize</th>\n",
       "      <th>2nd</th>\n",
       "      <th>2nd_prize</th>\n",
       "      <th>3rd</th>\n",
       "      <th>3rd_prize</th>\n",
       "      <th>4th</th>\n",
       "      <th>4th_prize</th>\n",
       "      <th>5th</th>\n",
       "      <th>5th_prize</th>\n",
       "      <th>1</th>\n",
       "    </tr>\n",
       "    <tr>\n",
       "      <th>game_no</th>\n",
       "      <th></th>\n",
       "      <th></th>\n",
       "      <th></th>\n",
       "      <th></th>\n",
       "      <th></th>\n",
       "      <th></th>\n",
       "      <th></th>\n",
       "      <th></th>\n",
       "      <th></th>\n",
       "      <th></th>\n",
       "      <th></th>\n",
       "      <th></th>\n",
       "      <th></th>\n",
       "    </tr>\n",
       "  </thead>\n",
       "  <tbody>\n",
       "    <tr>\n",
       "      <th>1042</th>\n",
       "      <td>20</td>\n",
       "      <td>2022</td>\n",
       "      <td>11</td>\n",
       "      <td>12억 4066만 3669</td>\n",
       "      <td>100</td>\n",
       "      <td>4135만 5456</td>\n",
       "      <td>3567</td>\n",
       "      <td>115만 9391</td>\n",
       "      <td>15만 7156</td>\n",
       "      <td>5만</td>\n",
       "      <td>246만 2593</td>\n",
       "      <td>5000</td>\n",
       "      <td>5</td>\n",
       "    </tr>\n",
       "    <tr>\n",
       "      <th>1041</th>\n",
       "      <td>25</td>\n",
       "      <td>2022</td>\n",
       "      <td>11</td>\n",
       "      <td>9억 3509만 1165</td>\n",
       "      <td>85</td>\n",
       "      <td>4583만 7803</td>\n",
       "      <td>3947</td>\n",
       "      <td>98만 7133</td>\n",
       "      <td>16만 7535</td>\n",
       "      <td>5만</td>\n",
       "      <td>262만 869</td>\n",
       "      <td>5000</td>\n",
       "      <td>6</td>\n",
       "    </tr>\n",
       "    <tr>\n",
       "      <th>1028</th>\n",
       "      <td>20</td>\n",
       "      <td>2022</td>\n",
       "      <td>8</td>\n",
       "      <td>11억 8123만 5132</td>\n",
       "      <td>91</td>\n",
       "      <td>4326만 8687</td>\n",
       "      <td>2810</td>\n",
       "      <td>140만 1228</td>\n",
       "      <td>14만 2778</td>\n",
       "      <td>5만</td>\n",
       "      <td>233만 3653</td>\n",
       "      <td>5000</td>\n",
       "      <td>5</td>\n",
       "    </tr>\n",
       "    <tr>\n",
       "      <th>1019</th>\n",
       "      <td>50</td>\n",
       "      <td>2022</td>\n",
       "      <td>6</td>\n",
       "      <td>4억 3856만 5140</td>\n",
       "      <td>75</td>\n",
       "      <td>4872만 9460</td>\n",
       "      <td>5823</td>\n",
       "      <td>62만 7634</td>\n",
       "      <td>19만 2646</td>\n",
       "      <td>5만</td>\n",
       "      <td>250만 6493</td>\n",
       "      <td>5000</td>\n",
       "      <td>1</td>\n",
       "    </tr>\n",
       "    <tr>\n",
       "      <th>1000</th>\n",
       "      <td>22</td>\n",
       "      <td>2022</td>\n",
       "      <td>1</td>\n",
       "      <td>12억 4681만 9620</td>\n",
       "      <td>109</td>\n",
       "      <td>4194만 1945</td>\n",
       "      <td>4018</td>\n",
       "      <td>113만 7798</td>\n",
       "      <td>18만 52</td>\n",
       "      <td>5만</td>\n",
       "      <td>274만 7686</td>\n",
       "      <td>5000</td>\n",
       "      <td>2</td>\n",
       "    </tr>\n",
       "    <tr>\n",
       "      <th>972</th>\n",
       "      <td>20</td>\n",
       "      <td>2021</td>\n",
       "      <td>7</td>\n",
       "      <td>11억 2488만 6244</td>\n",
       "      <td>80</td>\n",
       "      <td>4687만 261</td>\n",
       "      <td>2570</td>\n",
       "      <td>145만 8997</td>\n",
       "      <td>12만 6989</td>\n",
       "      <td>5만</td>\n",
       "      <td>212만 2398</td>\n",
       "      <td>5000</td>\n",
       "      <td>3</td>\n",
       "    </tr>\n",
       "    <tr>\n",
       "      <th>969</th>\n",
       "      <td>20</td>\n",
       "      <td>2021</td>\n",
       "      <td>6</td>\n",
       "      <td>11억 4942만 7894</td>\n",
       "      <td>56</td>\n",
       "      <td>6841만 8328</td>\n",
       "      <td>2633</td>\n",
       "      <td>145만 5157</td>\n",
       "      <td>13만 3079</td>\n",
       "      <td>5만</td>\n",
       "      <td>221만 1803</td>\n",
       "      <td>5000</td>\n",
       "      <td>3</td>\n",
       "    </tr>\n",
       "    <tr>\n",
       "      <th>910</th>\n",
       "      <td>21</td>\n",
       "      <td>2020</td>\n",
       "      <td>5</td>\n",
       "      <td>9억 4131만 6375</td>\n",
       "      <td>72</td>\n",
       "      <td>4575만 8435</td>\n",
       "      <td>2694</td>\n",
       "      <td>122만 2943</td>\n",
       "      <td>12만 8516</td>\n",
       "      <td>5만</td>\n",
       "      <td>207만 4354</td>\n",
       "      <td>5000</td>\n",
       "      <td>1</td>\n",
       "    </tr>\n",
       "    <tr>\n",
       "      <th>777</th>\n",
       "      <td>21</td>\n",
       "      <td>2017</td>\n",
       "      <td>10</td>\n",
       "      <td>8억 3346만 8036</td>\n",
       "      <td>66</td>\n",
       "      <td>4419만 9063</td>\n",
       "      <td>2413</td>\n",
       "      <td>120만 8926</td>\n",
       "      <td>11만 1938</td>\n",
       "      <td>5만</td>\n",
       "      <td>176만 6635</td>\n",
       "      <td>5000</td>\n",
       "      <td>6</td>\n",
       "    </tr>\n",
       "    <tr>\n",
       "      <th>757</th>\n",
       "      <td>21</td>\n",
       "      <td>2017</td>\n",
       "      <td>6</td>\n",
       "      <td>7억 3983만 9858</td>\n",
       "      <td>68</td>\n",
       "      <td>3807만 9993</td>\n",
       "      <td>2657</td>\n",
       "      <td>97만 4573</td>\n",
       "      <td>11만 7353</td>\n",
       "      <td>5만</td>\n",
       "      <td>178만 8667</td>\n",
       "      <td>5000</td>\n",
       "      <td>6</td>\n",
       "    </tr>\n",
       "    <tr>\n",
       "      <th>745</th>\n",
       "      <td>20</td>\n",
       "      <td>2017</td>\n",
       "      <td>3</td>\n",
       "      <td>7억 4682만 2982</td>\n",
       "      <td>110</td>\n",
       "      <td>2263만 1000</td>\n",
       "      <td>3692</td>\n",
       "      <td>67만 4272</td>\n",
       "      <td>14만 1918</td>\n",
       "      <td>5만</td>\n",
       "      <td>195만 5276</td>\n",
       "      <td>5000</td>\n",
       "      <td>1</td>\n",
       "    </tr>\n",
       "    <tr>\n",
       "      <th>546</th>\n",
       "      <td>30</td>\n",
       "      <td>2013</td>\n",
       "      <td>5</td>\n",
       "      <td>4억 593만 9950</td>\n",
       "      <td>55</td>\n",
       "      <td>3690만 3632</td>\n",
       "      <td>3110</td>\n",
       "      <td>65만 2637</td>\n",
       "      <td>10만 4469</td>\n",
       "      <td>5만</td>\n",
       "      <td>137만 9107</td>\n",
       "      <td>5000</td>\n",
       "      <td>8</td>\n",
       "    </tr>\n",
       "    <tr>\n",
       "      <th>21</th>\n",
       "      <td>23</td>\n",
       "      <td>2003</td>\n",
       "      <td>4</td>\n",
       "      <td>7억 9747만 5400</td>\n",
       "      <td>26</td>\n",
       "      <td>1억 1757만 6500</td>\n",
       "      <td>2008</td>\n",
       "      <td>152만 2400</td>\n",
       "      <td>8만 2996</td>\n",
       "      <td>7만 3600</td>\n",
       "      <td>115만 5368</td>\n",
       "      <td>1만</td>\n",
       "      <td>6</td>\n",
       "    </tr>\n",
       "  </tbody>\n",
       "</table>\n",
       "</div>"
      ],
      "text/plain": [
       "        1st  year month       1st_prize  2nd      2nd_prize   3rd  3rd_prize  \\\n",
       "game_no                                                                        \n",
       "1042     20  2022    11  12억 4066만 3669  100     4135만 5456  3567  115만 9391   \n",
       "1041     25  2022    11   9억 3509만 1165   85     4583만 7803  3947   98만 7133   \n",
       "1028     20  2022     8  11억 8123만 5132   91     4326만 8687  2810  140만 1228   \n",
       "1019     50  2022     6   4억 3856만 5140   75     4872만 9460  5823   62만 7634   \n",
       "1000     22  2022     1  12억 4681만 9620  109     4194만 1945  4018  113만 7798   \n",
       "972      20  2021     7  11억 2488만 6244   80      4687만 261  2570  145만 8997   \n",
       "969      20  2021     6  11억 4942만 7894   56     6841만 8328  2633  145만 5157   \n",
       "910      21  2020     5   9억 4131만 6375   72     4575만 8435  2694  122만 2943   \n",
       "777      21  2017    10   8억 3346만 8036   66     4419만 9063  2413  120만 8926   \n",
       "757      21  2017     6   7억 3983만 9858   68     3807만 9993  2657   97만 4573   \n",
       "745      20  2017     3   7억 4682만 2982  110     2263만 1000  3692   67만 4272   \n",
       "546      30  2013     5    4억 593만 9950   55     3690만 3632  3110   65만 2637   \n",
       "21       23  2003     4   7억 9747만 5400   26  1억 1757만 6500  2008  152만 2400   \n",
       "\n",
       "              4th 4th_prize        5th 5th_prize  1  \n",
       "game_no                                              \n",
       "1042     15만 7156       5만   246만 2593      5000  5  \n",
       "1041     16만 7535       5만    262만 869      5000  6  \n",
       "1028     14만 2778       5만   233만 3653      5000  5  \n",
       "1019     19만 2646       5만   250만 6493      5000  1  \n",
       "1000       18만 52       5만   274만 7686      5000  2  \n",
       "972      12만 6989       5만   212만 2398      5000  3  \n",
       "969      13만 3079       5만   221만 1803      5000  3  \n",
       "910      12만 8516       5만   207만 4354      5000  1  \n",
       "777      11만 1938       5만   176만 6635      5000  6  \n",
       "757      11만 7353       5만   178만 8667      5000  6  \n",
       "745      14만 1918       5만   195만 5276      5000  1  \n",
       "546      10만 4469       5만   137만 9107      5000  8  \n",
       "21        8만 2996   7만 3600  115만 5368       1만   6  "
      ]
     },
     "execution_count": 13,
     "metadata": {},
     "output_type": "execute_result"
    }
   ],
   "source": [
    "over20winners = df[df.loc[:,'1st'] >= 20].copy()\n",
    "for col in over20winners.columns:\n",
    "    over20winners.loc[:,col] = over20winners.loc[:,col].map(unitInKorean)\n",
    "over20winners = over20winners.iloc[:, :-7]\n",
    "over20winners"
   ]
  },
  {
   "cell_type": "code",
   "execution_count": 14,
   "id": "8395dfae",
   "metadata": {},
   "outputs": [
    {
     "data": {
      "text/plain": [
       "13"
      ]
     },
     "execution_count": 14,
     "metadata": {},
     "output_type": "execute_result"
    }
   ],
   "source": [
    "len(over20winners)"
   ]
  },
  {
   "cell_type": "markdown",
   "id": "22b9c7af",
   "metadata": {},
   "source": [
    "### Q1 분석결과-2\n",
    "1. 1등 당첨자가 20명 이상 나온 게임은 총 13게임이다. \n",
    "2. 대부분 비교적 최근(2017년 아후)에 나온 게임들이다. \n",
    "3. 올해(2022년)에만 5게임에서 20명 이상의 당첨자가 나왔다. "
   ]
  },
  {
   "cell_type": "code",
   "execution_count": 15,
   "id": "b7b67db8",
   "metadata": {},
   "outputs": [],
   "source": [
    "import seaborn as sns\n",
    "import matplotlib.pyplot as plt\n",
    "%matplotlib inline"
   ]
  },
  {
   "cell_type": "code",
   "execution_count": 16,
   "id": "bd2343e3",
   "metadata": {},
   "outputs": [
    {
     "data": {
      "text/plain": [
       "<Axes:xlabel='Count', ylabel='1st'>"
      ]
     },
     "execution_count": 16,
     "metadata": {},
     "output_type": "execute_result"
    },
    {
     "data": {
      "image/png": "[encoded data removed]",
      "text/plain": [
       "<Figure size 432x288 with 1 Axes>"
      ]
     },
     "metadata": {
      "needs_background": "light"
     },
     "output_type": "display_data"
    }
   ],
   "source": [
    "# 1등 당첨자수 분포\n",
    "fig = plt.figure()\n",
    "fig.add_axes([0,0,2,1])\n",
    "sns.histplot(y=df['1st'],bins=30)"
   ]
  },
  {
   "cell_type": "code",
   "execution_count": 17,
   "id": "7b5d68e8",
   "metadata": {},
   "outputs": [
    {
     "data": {
      "text/plain": [
       "<Axes:xlabel='game_no', ylabel='total'>"
      ]
     },
     "execution_count": 17,
     "metadata": {},
     "output_type": "execute_result"
    },
    {
     "data": {
      "image/png": "[encoded data removed]",
      "text/plain": [
       "<Figure size 432x288 with 1 Axes>"
      ]
     },
     "metadata": {
      "needs_background": "light"
     },
     "output_type": "display_data"
    }
   ],
   "source": [
    "# 역대 게임 참가자 수의 변화\n",
    "fig = plt.figure()\n",
    "fig.add_axes([0,0,2,1])\n",
    "sns.lineplot(data = df.reset_index(), x= 'game_no', y= 'total' )"
   ]
  },
  {
   "cell_type": "code",
   "execution_count": 18,
   "id": "c48d8ca7",
   "metadata": {},
   "outputs": [
    {
     "data": {
      "text/plain": [
       "<AxesSubplot:xlabel='total'>"
      ]
     },
     "execution_count": 18,
     "metadata": {},
     "output_type": "execute_result"
    },
    {
     "data": {
      "image/png": "[encoded data removed]",
      "text/plain": [
       "<Figure size 432x288 with 1 Axes>"
      ]
     },
     "metadata": {
      "needs_background": "light"
     },
     "output_type": "display_data"
    }
   ],
   "source": [
    "# 참여자수에서 outlier 확인 및 처리\n",
    "sns.boxplot(data = df, x = 'total')"
   ]
  },
  {
   "cell_type": "code",
   "execution_count": 19,
   "id": "a495725f",
   "metadata": {},
   "outputs": [],
   "source": [
    "# 이 부분을 일시적으로 제거하자.\n",
    "bdf = df[df['total'] < 2.5e8]"
   ]
  },
  {
   "cell_type": "code",
   "execution_count": 20,
   "id": "c39189ef",
   "metadata": {},
   "outputs": [
    {
     "data": {
      "text/plain": [
       "<Axes:xlabel='1st', ylabel='total'>"
      ]
     },
     "execution_count": 20,
     "metadata": {},
     "output_type": "execute_result"
    },
    {
     "data": {
      "image/png": "[encoded data removed]",
      "text/plain": [
       "<Figure size 432x288 with 1 Axes>"
      ]
     },
     "metadata": {
      "needs_background": "light"
     },
     "output_type": "display_data"
    }
   ],
   "source": [
    "# 게임 참가자 수와 1등 당첨자수의 상관관계\n",
    "fig = plt.figure()\n",
    "fig.add_axes([0,0,1.2,0.6])\n",
    "sns.scatterplot(data = bdf, x = '1st', y= 'total')"
   ]
  },
  {
   "cell_type": "code",
   "execution_count": 21,
   "id": "c2773377",
   "metadata": {},
   "outputs": [
    {
     "data": {
      "text/plain": [
       "0.458246192457946"
      ]
     },
     "execution_count": 21,
     "metadata": {},
     "output_type": "execute_result"
    }
   ],
   "source": [
    "# 상관계수\n",
    "bdf['1st'].corr(bdf['total'])"
   ]
  },
  {
   "cell_type": "code",
   "execution_count": 22,
   "id": "ebe6caab",
   "metadata": {},
   "outputs": [
    {
     "data": {
      "text/plain": [
       "<Axes:xlabel='1st', ylabel='2nd'>"
      ]
     },
     "execution_count": 22,
     "metadata": {},
     "output_type": "execute_result"
    },
    {
     "data": {
      "image/png": "[encoded data removed]",
      "text/plain": [
       "<Figure size 432x288 with 1 Axes>"
      ]
     },
     "metadata": {
      "needs_background": "light"
     },
     "output_type": "display_data"
    }
   ],
   "source": [
    "# 1등 당첨자 수와 2등 당첨자 수의 상관관계\n",
    "fig = plt.figure()\n",
    "fig.add_axes([0,0,1.2,0.6])\n",
    "sns.scatterplot(data = bdf, x = '1st', y= '2nd', hue = 'total')"
   ]
  },
  {
   "cell_type": "code",
   "execution_count": 23,
   "id": "a589688b",
   "metadata": {},
   "outputs": [
    {
     "data": {
      "text/plain": [
       "<Axes:xlabel='1st', ylabel='3rd'>"
      ]
     },
     "execution_count": 23,
     "metadata": {},
     "output_type": "execute_result"
    },
    {
     "data": {
      "image/png": "[encoded data removed]",
      "text/plain": [
       "<Figure size 432x288 with 1 Axes>"
      ]
     },
     "metadata": {
      "needs_background": "light"
     },
     "output_type": "display_data"
    }
   ],
   "source": [
    "#1등 당첨자 수와 3등 당첨자 수의 상관관계\n",
    "fig = plt.figure()\n",
    "fig.add_axes([0,0,1.2,0.6])\n",
    "sns.scatterplot(data = bdf, x = '1st', y= '3rd', hue='total')"
   ]
  },
  {
   "cell_type": "code",
   "execution_count": 24,
   "id": "efba3426",
   "metadata": {},
   "outputs": [
    {
     "data": {
      "text/plain": [
       "<Axes:xlabel='1st', ylabel='4th'>"
      ]
     },
     "execution_count": 24,
     "metadata": {},
     "output_type": "execute_result"
    },
    {
     "data": {
      "image/png": "[encoded data removed]",
      "text/plain": [
       "<Figure size 432x288 with 1 Axes>"
      ]
     },
     "metadata": {
      "needs_background": "light"
     },
     "output_type": "display_data"
    }
   ],
   "source": [
    "#1등 당첨자 수와 4등 당첨자 수의 상관관계\n",
    "fig = plt.figure()\n",
    "fig.add_axes([0,0,1.2,0.6])\n",
    "sns.scatterplot(data = bdf, x = '1st', y= '4th', hue ='total')"
   ]
  },
  {
   "cell_type": "code",
   "execution_count": 25,
   "id": "880b9865",
   "metadata": {},
   "outputs": [
    {
     "data": {
      "text/plain": [
       "<Axes:xlabel='1st', ylabel='5th'>"
      ]
     },
     "execution_count": 25,
     "metadata": {},
     "output_type": "execute_result"
    },
    {
     "data": {
      "image/png": "[encoded data removed]",
      "text/plain": [
       "<Figure size 432x288 with 1 Axes>"
      ]
     },
     "metadata": {
      "needs_background": "light"
     },
     "output_type": "display_data"
    }
   ],
   "source": [
    "#1등 당첨자 수와 5등 당첨자 수의 상관관계\n",
    "fig = plt.figure()\n",
    "fig.add_axes([0,0,1.2,0.6])\n",
    "sns.scatterplot(data = bdf, x = '1st', y= '5th', hue='total')"
   ]
  },
  {
   "cell_type": "markdown",
   "id": "0fc79055",
   "metadata": {},
   "source": [
    "### Q1 분석결과-3 \n",
    "1. 전반적으로 당첨자수는 게임 참여자수와 약간의 양의 상관관계가 있다.(당연한 얘기?)\n",
    "2. 1등 당첨자수는 대부분 10명 안 쪽으로 몰려있는 경향이다. "
   ]
  },
  {
   "cell_type": "markdown",
   "id": "6de64162",
   "metadata": {},
   "source": [
    "# Q2. 로또 번호 재등장 주기\n",
    "이번에 등장한 로또 번호는 바로 직전에 등장했을까? 아니면 얼마만에 뽑힌 번호일까?"
   ]
  },
  {
   "cell_type": "code",
   "execution_count": 26,
   "id": "4c1c1f3d",
   "metadata": {},
   "outputs": [
    {
     "data": {
      "text/html": [
       "<div>\n",
       "<style scoped>\n",
       "    .dataframe tbody tr th:only-of-type {\n",
       "        vertical-align: middle;\n",
       "    }\n",
       "\n",
       "    .dataframe tbody tr th {\n",
       "        vertical-align: top;\n",
       "    }\n",
       "\n",
       "    .dataframe thead th {\n",
       "        text-align: right;\n",
       "    }\n",
       "</style>\n",
       "<table border=\"1\" class=\"dataframe\">\n",
       "  <thead>\n",
       "    <tr style=\"text-align: right;\">\n",
       "      <th></th>\n",
       "      <th>1</th>\n",
       "      <th>2</th>\n",
       "      <th>3</th>\n",
       "      <th>4</th>\n",
       "      <th>5</th>\n",
       "      <th>6</th>\n",
       "      <th>+</th>\n",
       "    </tr>\n",
       "    <tr>\n",
       "      <th>game_no</th>\n",
       "      <th></th>\n",
       "      <th></th>\n",
       "      <th></th>\n",
       "      <th></th>\n",
       "      <th></th>\n",
       "      <th></th>\n",
       "      <th></th>\n",
       "    </tr>\n",
       "  </thead>\n",
       "  <tbody>\n",
       "    <tr>\n",
       "      <th>1047</th>\n",
       "      <td>2</td>\n",
       "      <td>20</td>\n",
       "      <td>33</td>\n",
       "      <td>40</td>\n",
       "      <td>42</td>\n",
       "      <td>44</td>\n",
       "      <td>32</td>\n",
       "    </tr>\n",
       "    <tr>\n",
       "      <th>1046</th>\n",
       "      <td>7</td>\n",
       "      <td>16</td>\n",
       "      <td>25</td>\n",
       "      <td>29</td>\n",
       "      <td>35</td>\n",
       "      <td>36</td>\n",
       "      <td>28</td>\n",
       "    </tr>\n",
       "    <tr>\n",
       "      <th>1045</th>\n",
       "      <td>6</td>\n",
       "      <td>14</td>\n",
       "      <td>15</td>\n",
       "      <td>19</td>\n",
       "      <td>21</td>\n",
       "      <td>41</td>\n",
       "      <td>37</td>\n",
       "    </tr>\n",
       "    <tr>\n",
       "      <th>1044</th>\n",
       "      <td>12</td>\n",
       "      <td>17</td>\n",
       "      <td>20</td>\n",
       "      <td>26</td>\n",
       "      <td>28</td>\n",
       "      <td>36</td>\n",
       "      <td>4</td>\n",
       "    </tr>\n",
       "    <tr>\n",
       "      <th>1043</th>\n",
       "      <td>3</td>\n",
       "      <td>5</td>\n",
       "      <td>12</td>\n",
       "      <td>22</td>\n",
       "      <td>26</td>\n",
       "      <td>31</td>\n",
       "      <td>19</td>\n",
       "    </tr>\n",
       "    <tr>\n",
       "      <th>...</th>\n",
       "      <td>...</td>\n",
       "      <td>...</td>\n",
       "      <td>...</td>\n",
       "      <td>...</td>\n",
       "      <td>...</td>\n",
       "      <td>...</td>\n",
       "      <td>...</td>\n",
       "    </tr>\n",
       "    <tr>\n",
       "      <th>5</th>\n",
       "      <td>16</td>\n",
       "      <td>24</td>\n",
       "      <td>29</td>\n",
       "      <td>40</td>\n",
       "      <td>41</td>\n",
       "      <td>42</td>\n",
       "      <td>3</td>\n",
       "    </tr>\n",
       "    <tr>\n",
       "      <th>4</th>\n",
       "      <td>14</td>\n",
       "      <td>27</td>\n",
       "      <td>30</td>\n",
       "      <td>31</td>\n",
       "      <td>40</td>\n",
       "      <td>42</td>\n",
       "      <td>2</td>\n",
       "    </tr>\n",
       "    <tr>\n",
       "      <th>3</th>\n",
       "      <td>11</td>\n",
       "      <td>16</td>\n",
       "      <td>19</td>\n",
       "      <td>21</td>\n",
       "      <td>27</td>\n",
       "      <td>31</td>\n",
       "      <td>30</td>\n",
       "    </tr>\n",
       "    <tr>\n",
       "      <th>2</th>\n",
       "      <td>9</td>\n",
       "      <td>13</td>\n",
       "      <td>21</td>\n",
       "      <td>25</td>\n",
       "      <td>32</td>\n",
       "      <td>42</td>\n",
       "      <td>2</td>\n",
       "    </tr>\n",
       "    <tr>\n",
       "      <th>1</th>\n",
       "      <td>10</td>\n",
       "      <td>23</td>\n",
       "      <td>29</td>\n",
       "      <td>33</td>\n",
       "      <td>37</td>\n",
       "      <td>40</td>\n",
       "      <td>16</td>\n",
       "    </tr>\n",
       "  </tbody>\n",
       "</table>\n",
       "<p>1047 rows × 7 columns</p>\n",
       "</div>"
      ],
      "text/plain": [
       "          1   2   3   4   5   6   +\n",
       "game_no                            \n",
       "1047      2  20  33  40  42  44  32\n",
       "1046      7  16  25  29  35  36  28\n",
       "1045      6  14  15  19  21  41  37\n",
       "1044     12  17  20  26  28  36   4\n",
       "1043      3   5  12  22  26  31  19\n",
       "...      ..  ..  ..  ..  ..  ..  ..\n",
       "5        16  24  29  40  41  42   3\n",
       "4        14  27  30  31  40  42   2\n",
       "3        11  16  19  21  27  31  30\n",
       "2         9  13  21  25  32  42   2\n",
       "1        10  23  29  33  37  40  16\n",
       "\n",
       "[1047 rows x 7 columns]"
      ]
     },
     "execution_count": 26,
     "metadata": {},
     "output_type": "execute_result"
    }
   ],
   "source": [
    "lucks = df.loc[ :, ['1','2','3','4','5','6','+']]\n",
    "luck_nums = lucks.values.reshape(-1,lucks.size)[0]\n",
    "lucks"
   ]
  },
  {
   "cell_type": "code",
   "execution_count": 27,
   "id": "5eeb9ad1",
   "metadata": {},
   "outputs": [
    {
     "data": {
      "text/plain": [
       "<AxesSubplot:ylabel='Count'>"
      ]
     },
     "execution_count": 27,
     "metadata": {},
     "output_type": "execute_result"
    },
    {
     "data": {
      "image/png": "[encoded data removed]",
      "text/plain": [
       "<Figure size 432x288 with 1 Axes>"
      ]
     },
     "metadata": {
      "needs_background": "light"
     },
     "output_type": "display_data"
    }
   ],
   "source": [
    "# 로또 번호들의 등장 분포\n",
    "sns.histplot(luck_nums, bins = 45)"
   ]
  },
  {
   "cell_type": "code",
   "execution_count": 28,
   "id": "d0aa16d4",
   "metadata": {},
   "outputs": [],
   "source": [
    "#매 게임 로또 번호들의 평균과 분산은?\n",
    "luck_means = lucks.apply(np.mean,axis=1).map(lambda x : float('% .2f'%x))\n",
    "luck_std   = lucks.apply(np.std ,axis=1).map(lambda x : float('% .2f'%x))"
   ]
  },
  {
   "cell_type": "code",
   "execution_count": 29,
   "id": "c9a02d87",
   "metadata": {},
   "outputs": [
    {
     "data": {
      "text/plain": [
       "<AxesSubplot:ylabel='Count'>"
      ]
     },
     "execution_count": 29,
     "metadata": {},
     "output_type": "execute_result"
    },
    {
     "data": {
      "image/png": "[encoded data removed]",
      "text/plain": [
       "<Figure size 432x288 with 1 Axes>"
      ]
     },
     "metadata": {
      "needs_background": "light"
     },
     "output_type": "display_data"
    }
   ],
   "source": [
    "#매 게임 번호 평균들의 분포\n",
    "sns.histplot(luck_means, bins = 50, kde= True)"
   ]
  },
  {
   "cell_type": "code",
   "execution_count": 30,
   "id": "12393047",
   "metadata": {},
   "outputs": [
    {
     "data": {
      "text/plain": [
       "<AxesSubplot:ylabel='Count'>"
      ]
     },
     "execution_count": 30,
     "metadata": {},
     "output_type": "execute_result"
    },
    {
     "data": {
      "image/png": "[encoded data removed]",
      "text/plain": [
       "<Figure size 432x288 with 1 Axes>"
      ]
     },
     "metadata": {
      "needs_background": "light"
     },
     "output_type": "display_data"
    }
   ],
   "source": [
    "#매 게임 표준 편차들의 분포\n",
    "sns.histplot(luck_std, bins = 50, kde=True)"
   ]
  },
  {
   "cell_type": "code",
   "execution_count": 31,
   "id": "2b08650d",
   "metadata": {},
   "outputs": [
    {
     "data": {
      "text/html": [
       "<div>\n",
       "<style scoped>\n",
       "    .dataframe tbody tr th:only-of-type {\n",
       "        vertical-align: middle;\n",
       "    }\n",
       "\n",
       "    .dataframe tbody tr th {\n",
       "        vertical-align: top;\n",
       "    }\n",
       "\n",
       "    .dataframe thead th {\n",
       "        text-align: right;\n",
       "    }\n",
       "</style>\n",
       "<table border=\"1\" class=\"dataframe\">\n",
       "  <thead>\n",
       "    <tr style=\"text-align: right;\">\n",
       "      <th></th>\n",
       "      <th>1</th>\n",
       "      <th>2</th>\n",
       "      <th>3</th>\n",
       "      <th>4</th>\n",
       "      <th>5</th>\n",
       "      <th>6</th>\n",
       "      <th>+</th>\n",
       "    </tr>\n",
       "    <tr>\n",
       "      <th>game_no</th>\n",
       "      <th></th>\n",
       "      <th></th>\n",
       "      <th></th>\n",
       "      <th></th>\n",
       "      <th></th>\n",
       "      <th></th>\n",
       "      <th></th>\n",
       "    </tr>\n",
       "  </thead>\n",
       "  <tbody>\n",
       "    <tr>\n",
       "      <th>1047</th>\n",
       "      <td>2</td>\n",
       "      <td>20</td>\n",
       "      <td>33</td>\n",
       "      <td>40</td>\n",
       "      <td>42</td>\n",
       "      <td>44</td>\n",
       "      <td>32</td>\n",
       "    </tr>\n",
       "    <tr>\n",
       "      <th>1046</th>\n",
       "      <td>7</td>\n",
       "      <td>16</td>\n",
       "      <td>25</td>\n",
       "      <td>29</td>\n",
       "      <td>35</td>\n",
       "      <td>36</td>\n",
       "      <td>28</td>\n",
       "    </tr>\n",
       "    <tr>\n",
       "      <th>1045</th>\n",
       "      <td>6</td>\n",
       "      <td>14</td>\n",
       "      <td>15</td>\n",
       "      <td>19</td>\n",
       "      <td>21</td>\n",
       "      <td>41</td>\n",
       "      <td>37</td>\n",
       "    </tr>\n",
       "    <tr>\n",
       "      <th>1044</th>\n",
       "      <td>12</td>\n",
       "      <td>17</td>\n",
       "      <td>20</td>\n",
       "      <td>26</td>\n",
       "      <td>28</td>\n",
       "      <td>36</td>\n",
       "      <td>4</td>\n",
       "    </tr>\n",
       "    <tr>\n",
       "      <th>1043</th>\n",
       "      <td>3</td>\n",
       "      <td>5</td>\n",
       "      <td>12</td>\n",
       "      <td>22</td>\n",
       "      <td>26</td>\n",
       "      <td>31</td>\n",
       "      <td>19</td>\n",
       "    </tr>\n",
       "    <tr>\n",
       "      <th>...</th>\n",
       "      <td>...</td>\n",
       "      <td>...</td>\n",
       "      <td>...</td>\n",
       "      <td>...</td>\n",
       "      <td>...</td>\n",
       "      <td>...</td>\n",
       "      <td>...</td>\n",
       "    </tr>\n",
       "    <tr>\n",
       "      <th>5</th>\n",
       "      <td>16</td>\n",
       "      <td>24</td>\n",
       "      <td>29</td>\n",
       "      <td>40</td>\n",
       "      <td>41</td>\n",
       "      <td>42</td>\n",
       "      <td>3</td>\n",
       "    </tr>\n",
       "    <tr>\n",
       "      <th>4</th>\n",
       "      <td>14</td>\n",
       "      <td>27</td>\n",
       "      <td>30</td>\n",
       "      <td>31</td>\n",
       "      <td>40</td>\n",
       "      <td>42</td>\n",
       "      <td>2</td>\n",
       "    </tr>\n",
       "    <tr>\n",
       "      <th>3</th>\n",
       "      <td>11</td>\n",
       "      <td>16</td>\n",
       "      <td>19</td>\n",
       "      <td>21</td>\n",
       "      <td>27</td>\n",
       "      <td>31</td>\n",
       "      <td>30</td>\n",
       "    </tr>\n",
       "    <tr>\n",
       "      <th>2</th>\n",
       "      <td>9</td>\n",
       "      <td>13</td>\n",
       "      <td>21</td>\n",
       "      <td>25</td>\n",
       "      <td>32</td>\n",
       "      <td>42</td>\n",
       "      <td>2</td>\n",
       "    </tr>\n",
       "    <tr>\n",
       "      <th>1</th>\n",
       "      <td>10</td>\n",
       "      <td>23</td>\n",
       "      <td>29</td>\n",
       "      <td>33</td>\n",
       "      <td>37</td>\n",
       "      <td>40</td>\n",
       "      <td>16</td>\n",
       "    </tr>\n",
       "  </tbody>\n",
       "</table>\n",
       "<p>1047 rows × 7 columns</p>\n",
       "</div>"
      ],
      "text/plain": [
       "          1   2   3   4   5   6   +\n",
       "game_no                            \n",
       "1047      2  20  33  40  42  44  32\n",
       "1046      7  16  25  29  35  36  28\n",
       "1045      6  14  15  19  21  41  37\n",
       "1044     12  17  20  26  28  36   4\n",
       "1043      3   5  12  22  26  31  19\n",
       "...      ..  ..  ..  ..  ..  ..  ..\n",
       "5        16  24  29  40  41  42   3\n",
       "4        14  27  30  31  40  42   2\n",
       "3        11  16  19  21  27  31  30\n",
       "2         9  13  21  25  32  42   2\n",
       "1        10  23  29  33  37  40  16\n",
       "\n",
       "[1047 rows x 7 columns]"
      ]
     },
     "execution_count": 31,
     "metadata": {},
     "output_type": "execute_result"
    }
   ],
   "source": [
    "# 재등장 주기는 어떻게 될까?\n",
    "lucks_re = lucks.copy()\n",
    "lucks_re"
   ]
  },
  {
   "cell_type": "code",
   "execution_count": 32,
   "id": "abe5abaf",
   "metadata": {},
   "outputs": [
    {
     "data": {
      "text/html": [
       "<div>\n",
       "<style scoped>\n",
       "    .dataframe tbody tr th:only-of-type {\n",
       "        vertical-align: middle;\n",
       "    }\n",
       "\n",
       "    .dataframe tbody tr th {\n",
       "        vertical-align: top;\n",
       "    }\n",
       "\n",
       "    .dataframe thead th {\n",
       "        text-align: right;\n",
       "    }\n",
       "</style>\n",
       "<table border=\"1\" class=\"dataframe\">\n",
       "  <thead>\n",
       "    <tr style=\"text-align: right;\">\n",
       "      <th></th>\n",
       "      <th>1</th>\n",
       "      <th>2</th>\n",
       "      <th>3</th>\n",
       "      <th>4</th>\n",
       "      <th>5</th>\n",
       "      <th>6</th>\n",
       "      <th>+</th>\n",
       "    </tr>\n",
       "    <tr>\n",
       "      <th>game_no</th>\n",
       "      <th></th>\n",
       "      <th></th>\n",
       "      <th></th>\n",
       "      <th></th>\n",
       "      <th></th>\n",
       "      <th></th>\n",
       "      <th></th>\n",
       "    </tr>\n",
       "  </thead>\n",
       "  <tbody>\n",
       "    <tr>\n",
       "      <th>1047</th>\n",
       "      <td>8</td>\n",
       "      <td>3</td>\n",
       "      <td>10</td>\n",
       "      <td>13</td>\n",
       "      <td>12</td>\n",
       "      <td>9</td>\n",
       "      <td>11</td>\n",
       "    </tr>\n",
       "    <tr>\n",
       "      <th>1046</th>\n",
       "      <td>5</td>\n",
       "      <td>6</td>\n",
       "      <td>21</td>\n",
       "      <td>6</td>\n",
       "      <td>11</td>\n",
       "      <td>2</td>\n",
       "      <td>2</td>\n",
       "    </tr>\n",
       "    <tr>\n",
       "      <th>1045</th>\n",
       "      <td>4</td>\n",
       "      <td>3</td>\n",
       "      <td>3</td>\n",
       "      <td>2</td>\n",
       "      <td>27</td>\n",
       "      <td>10</td>\n",
       "      <td>7</td>\n",
       "    </tr>\n",
       "    <tr>\n",
       "      <th>1044</th>\n",
       "      <td>1</td>\n",
       "      <td>3</td>\n",
       "      <td>11</td>\n",
       "      <td>1</td>\n",
       "      <td>12</td>\n",
       "      <td>4</td>\n",
       "      <td>2</td>\n",
       "    </tr>\n",
       "    <tr>\n",
       "      <th>1043</th>\n",
       "      <td>4</td>\n",
       "      <td>1</td>\n",
       "      <td>11</td>\n",
       "      <td>6</td>\n",
       "      <td>3</td>\n",
       "      <td>3</td>\n",
       "      <td>4</td>\n",
       "    </tr>\n",
       "    <tr>\n",
       "      <th>...</th>\n",
       "      <td>...</td>\n",
       "      <td>...</td>\n",
       "      <td>...</td>\n",
       "      <td>...</td>\n",
       "      <td>...</td>\n",
       "      <td>...</td>\n",
       "      <td>...</td>\n",
       "    </tr>\n",
       "    <tr>\n",
       "      <th>5</th>\n",
       "      <td>2</td>\n",
       "      <td>0</td>\n",
       "      <td>4</td>\n",
       "      <td>1</td>\n",
       "      <td>0</td>\n",
       "      <td>1</td>\n",
       "      <td>0</td>\n",
       "    </tr>\n",
       "    <tr>\n",
       "      <th>4</th>\n",
       "      <td>0</td>\n",
       "      <td>1</td>\n",
       "      <td>1</td>\n",
       "      <td>1</td>\n",
       "      <td>3</td>\n",
       "      <td>2</td>\n",
       "      <td>2</td>\n",
       "    </tr>\n",
       "    <tr>\n",
       "      <th>3</th>\n",
       "      <td>0</td>\n",
       "      <td>2</td>\n",
       "      <td>0</td>\n",
       "      <td>1</td>\n",
       "      <td>0</td>\n",
       "      <td>0</td>\n",
       "      <td>0</td>\n",
       "    </tr>\n",
       "    <tr>\n",
       "      <th>2</th>\n",
       "      <td>0</td>\n",
       "      <td>0</td>\n",
       "      <td>0</td>\n",
       "      <td>0</td>\n",
       "      <td>0</td>\n",
       "      <td>0</td>\n",
       "      <td>0</td>\n",
       "    </tr>\n",
       "    <tr>\n",
       "      <th>1</th>\n",
       "      <td>0</td>\n",
       "      <td>0</td>\n",
       "      <td>0</td>\n",
       "      <td>0</td>\n",
       "      <td>0</td>\n",
       "      <td>0</td>\n",
       "      <td>0</td>\n",
       "    </tr>\n",
       "  </tbody>\n",
       "</table>\n",
       "<p>1047 rows × 7 columns</p>\n",
       "</div>"
      ],
      "text/plain": [
       "         1  2   3   4   5   6   +\n",
       "game_no                          \n",
       "1047     8  3  10  13  12   9  11\n",
       "1046     5  6  21   6  11   2   2\n",
       "1045     4  3   3   2  27  10   7\n",
       "1044     1  3  11   1  12   4   2\n",
       "1043     4  1  11   6   3   3   4\n",
       "...     .. ..  ..  ..  ..  ..  ..\n",
       "5        2  0   4   1   0   1   0\n",
       "4        0  1   1   1   3   2   2\n",
       "3        0  2   0   1   0   0   0\n",
       "2        0  0   0   0   0   0   0\n",
       "1        0  0   0   0   0   0   0\n",
       "\n",
       "[1047 rows x 7 columns]"
      ]
     },
     "execution_count": 32,
     "metadata": {},
     "output_type": "execute_result"
    }
   ],
   "source": [
    "for game_idx in range(len(lucks)):\n",
    "    res = np.zeros(7)\n",
    "    left = np.array(lucks.iloc[game_idx])\n",
    "    \n",
    "    # 아직 모든 res가 구해지지 않은 경우 계속해서 이전 게임을 탐색한다\n",
    "    prev_game_idx = game_idx + 1\n",
    "    while 0 in res:\n",
    "        try:\n",
    "            prev_game = np.array(lucks.iloc[prev_game_idx])\n",
    "        except:\n",
    "\n",
    "            break\n",
    "        \n",
    "        # 재등장주기가 아직 구해지지 않은 번호에 대해서만 탐색을 한다\n",
    "        for idx in range(7):\n",
    "\n",
    "            #만약 재등장 주기가 구해졌다면 skip\n",
    "            if res[idx] > 0:\n",
    "                continue\n",
    "                \n",
    "            #아니라면 이전 게임에 해당 번호가 등장했는지 확인하기\n",
    "            if left[idx] in prev_game:\n",
    "                res[idx] = prev_game_idx - game_idx\n",
    "        prev_game_idx += 1\n",
    "        \n",
    "    lucks_re.iloc[game_idx] = res\n",
    "    \n",
    "lucks_re"
   ]
  },
  {
   "cell_type": "code",
   "execution_count": 45,
   "id": "ddece6c9",
   "metadata": {},
   "outputs": [
    {
     "data": {
      "text/plain": [
       "array([[ 8,  3, 10, ..., 12,  9, 11],\n",
       "       [ 5,  6, 21, ..., 11,  2,  2],\n",
       "       [ 4,  3,  3, ..., 27, 10,  7],\n",
       "       ...,\n",
       "       [ 6,  2,  6, ...,  6,  6,  6],\n",
       "       [ 6,  6,  6, ...,  6,  6,  6],\n",
       "       [ 6,  6,  6, ...,  6,  6,  6]])"
      ]
     },
     "execution_count": 45,
     "metadata": {},
     "output_type": "execute_result"
    }
   ],
   "source": [
    "#재등장 주기표 전처리 하기 \n",
    "#회차가 초반이어서 재등장이 아예 일어나지 않은 경우는 0 이외의 값들의 재등장 횟수 평균값으로 채우기\n",
    "lucks_reocurence = np.array(lucks_re)\n",
    "lucks_reocurence[lucks_reocurence == 0] = int(lucks_reocurence[lucks_reocurence > 0].mean())\n",
    "lucks_reocurence"
   ]
  },
  {
   "cell_type": "code",
   "execution_count": 46,
   "id": "980ab9e1",
   "metadata": {},
   "outputs": [
    {
     "data": {
      "text/plain": [
       "<Axes:ylabel='Count'>"
      ]
     },
     "execution_count": 46,
     "metadata": {},
     "output_type": "execute_result"
    },
    {
     "data": {
      "image/png": "[encoded data removed]",
      "text/plain": [
       "<Figure size 432x288 with 1 Axes>"
      ]
     },
     "metadata": {
      "needs_background": "light"
     },
     "output_type": "display_data"
    }
   ],
   "source": [
    "#재등장 주기의 분포\n",
    "fig = plt.figure()\n",
    "fig.add_axes([0,0,2,1.5])\n",
    "plt.xticks(range(1,50))\n",
    "sns.histplot(lucks_reocurence.reshape(-1,), bins = 50)"
   ]
  },
  {
   "cell_type": "code",
   "execution_count": 47,
   "id": "c068cca6",
   "metadata": {},
   "outputs": [],
   "source": [
    "#각 게임 당 재등장 주기의 평균 및 표준편차\n",
    "luck_re_df = pd.DataFrame(lucks_reocurence)\n",
    "luck_re_means = luck_re_df.apply(np.mean, axis =1)\n",
    "luck_re_std = luck_re_df.apply(np.std, axis = 1)"
   ]
  },
  {
   "cell_type": "code",
   "execution_count": 48,
   "id": "ca489b1e",
   "metadata": {},
   "outputs": [
    {
     "data": {
      "text/plain": [
       "<AxesSubplot:ylabel='Count'>"
      ]
     },
     "execution_count": 48,
     "metadata": {},
     "output_type": "execute_result"
    },
    {
     "data": {
      "image/png": "[encoded data removed]",
      "text/plain": [
       "<Figure size 432x288 with 1 Axes>"
      ]
     },
     "metadata": {
      "needs_background": "light"
     },
     "output_type": "display_data"
    }
   ],
   "source": [
    "#각 게임 당 재등장 주기의 평균\n",
    "sns.histplot(luck_re_means, bins = 30)"
   ]
  },
  {
   "cell_type": "code",
   "execution_count": 49,
   "id": "bdc09c61",
   "metadata": {},
   "outputs": [
    {
     "data": {
      "text/plain": [
       "<AxesSubplot:ylabel='Count'>"
      ]
     },
     "execution_count": 49,
     "metadata": {},
     "output_type": "execute_result"
    },
    {
     "data": {
      "image/png": "[encoded data removed]",
      "text/plain": [
       "<Figure size 432x288 with 1 Axes>"
      ]
     },
     "metadata": {
      "needs_background": "light"
     },
     "output_type": "display_data"
    }
   ],
   "source": [
    "#각 게임 당 재등장 주기의 표준편차 \n",
    "sns.histplot(luck_re_std, bins = 30)"
   ]
  },
  {
   "cell_type": "markdown",
   "id": "3c2f808d",
   "metadata": {},
   "source": [
    "### Q2. 분석결과 - 1\n",
    "1. 평균적으로 6번의 재등장 주기를 갖는다. \n",
    "2. 놀랍게도 이전게임에서 나온 번호가 나올 확률이 꽤 크다. 그러나 단 하나의 번호만을 볼 때에 국한한다. 한 게임의 6개의 번호를 볼 때는 그렇지 않다."
   ]
  },
  {
   "cell_type": "markdown",
   "id": "76b7b79a",
   "metadata": {},
   "source": [
    "# Q3. 로또 번호 유사도 측정하기\n",
    "Hamming Distance 개념을 활용해서 로또 번호의 유사도를 측정한다. \n",
    "Hamming Distance를 활용한이유? 값이 다르면 아예 다른것이기 때문이다. 예를 들어 23과 24의 차이와 23과 25의 차이는 동일하다. 아무런 질적 차이를 보이지 않는다. 따라서 hamming distance를 선택했다. "
   ]
  },
  {
   "cell_type": "code",
   "execution_count": 197,
   "id": "d22d094d",
   "metadata": {},
   "outputs": [
    {
     "data": {
      "text/plain": [
       "1"
      ]
     },
     "execution_count": 197,
     "metadata": {},
     "output_type": "execute_result"
    }
   ],
   "source": [
    "# Modified Hamming Distance 예시 -> 더 유사할 수록 더 높은 값을 갖도록 수정함\n",
    "x = np.array([1,1,0,0])\n",
    "y = np.array([0,1,1,1])\n",
    "(x & y).sum()"
   ]
  },
  {
   "cell_type": "code",
   "execution_count": 110,
   "id": "f899dbcb",
   "metadata": {},
   "outputs": [
    {
     "data": {
      "text/plain": [
       "array([array([0., 1., 0., 0., 0., 0., 0., 0., 0., 0., 0., 0., 0., 0., 0., 0., 0.,\n",
       "              0., 0., 1., 0., 0., 0., 0., 0., 0., 0., 0., 0., 0., 0., 1., 1., 0.,\n",
       "              0., 0., 0., 0., 0., 1., 0., 1., 0., 1., 0.])                       ,\n",
       "       array([0., 0., 0., 0., 0., 0., 1., 0., 0., 0., 0., 0., 0., 0., 0., 1., 0.,\n",
       "              0., 0., 0., 0., 0., 0., 0., 1., 0., 0., 1., 1., 0., 0., 0., 0., 0.,\n",
       "              1., 1., 0., 0., 0., 0., 0., 0., 0., 0., 0.])                       ,\n",
       "       array([0., 0., 0., 0., 0., 1., 0., 0., 0., 0., 0., 0., 0., 1., 1., 0., 0.,\n",
       "              0., 1., 0., 1., 0., 0., 0., 0., 0., 0., 0., 0., 0., 0., 0., 0., 0.,\n",
       "              0., 0., 1., 0., 0., 0., 1., 0., 0., 0., 0.])                       ,\n",
       "       ...,\n",
       "       array([0., 0., 0., 0., 0., 0., 0., 0., 0., 0., 1., 0., 0., 0., 0., 1., 0.,\n",
       "              0., 1., 0., 1., 0., 0., 0., 0., 0., 1., 0., 0., 1., 1., 0., 0., 0.,\n",
       "              0., 0., 0., 0., 0., 0., 0., 0., 0., 0., 0.])                       ,\n",
       "       array([0., 1., 0., 0., 0., 0., 0., 0., 1., 0., 0., 0., 1., 0., 0., 0., 0.,\n",
       "              0., 0., 0., 1., 0., 0., 0., 1., 0., 0., 0., 0., 0., 0., 1., 0., 0.,\n",
       "              0., 0., 0., 0., 0., 0., 0., 1., 0., 0., 0.])                       ,\n",
       "       array([0., 0., 0., 0., 0., 0., 0., 0., 0., 1., 0., 0., 0., 0., 0., 1., 0.,\n",
       "              0., 0., 0., 0., 0., 1., 0., 0., 0., 0., 0., 1., 0., 0., 0., 1., 0.,\n",
       "              0., 0., 1., 0., 0., 1., 0., 0., 0., 0., 0.])                       ],\n",
       "      dtype=object)"
      ]
     },
     "execution_count": 110,
     "metadata": {},
     "output_type": "execute_result"
    }
   ],
   "source": [
    "# 각 게임에 나온 번호를 hamming code화 시킨다. 1 3 5 -> ...000000010101\n",
    "def convertToHam(lucks):\n",
    "    res = np.zeros(45)\n",
    "    for luck in lucks:\n",
    "        res[luck-1] = 1\n",
    "    return res\n",
    "lucks_ham = np.array(lucks.apply(convertToHam, axis = 1))\n",
    "lucks_ham"
   ]
  },
  {
   "cell_type": "code",
   "execution_count": 209,
   "id": "09605394",
   "metadata": {},
   "outputs": [],
   "source": [
    "# 모든 게임회차별 가능한 조합에 대한 hamming distance를 구한다. pairwise hamming distance O(n^2)\n",
    "games = len(lucks)\n",
    "mat_lotto = np.zeros((games, games))\n",
    "\n",
    "for game in range(games):\n",
    "    cur_ham = lucks_ham[game].astype(int)\n",
    "    for cmp in range(games):\n",
    "        cmp_ham = lucks_ham[cmp].astype(int)\n",
    "        mat_lotto[game][cmp] = (cur_ham & cmp_ham).sum()\n",
    "mat_lotto\n",
    "\n",
    "#자기 자신과의 hamming distnace는 삭제한다\n",
    "mat_lotto = mat_lotto - np.eye(games) * 7"
   ]
  },
  {
   "cell_type": "code",
   "execution_count": 219,
   "id": "ff0db0ef",
   "metadata": {},
   "outputs": [],
   "source": [
    "# 각각의 게임 회차별 타 게임과의 hamming distance 내용 정보\n",
    "hamming_points = np.apply_along_axis(np.sum , 1, mat_lotto)\n",
    "hamming_means = np.apply_along_axis(np.mean , 1, mat_lotto)\n",
    "hamming_std = np.apply_along_axis(np.std , 1, mat_lotto)"
   ]
  },
  {
   "cell_type": "code",
   "execution_count": 225,
   "id": "d18cc68f",
   "metadata": {},
   "outputs": [
    {
     "data": {
      "text/plain": [
       "<AxesSubplot:ylabel='Count'>"
      ]
     },
     "execution_count": 225,
     "metadata": {},
     "output_type": "execute_result"
    },
    {
     "data": {
      "image/png": "[encoded data removed]",
      "text/plain": [
       "<Figure size 432x288 with 1 Axes>"
      ]
     },
     "metadata": {
      "needs_background": "light"
     },
     "output_type": "display_data"
    }
   ],
   "source": [
    "# hamming point의 총합\n",
    "sns.histplot(hamming_points)"
   ]
  },
  {
   "cell_type": "code",
   "execution_count": 226,
   "id": "8c9bb7e7",
   "metadata": {},
   "outputs": [
    {
     "data": {
      "text/plain": [
       "<AxesSubplot:ylabel='Count'>"
      ]
     },
     "execution_count": 226,
     "metadata": {},
     "output_type": "execute_result"
    },
    {
     "data": {
      "image/png": "[encoded data removed]",
      "text/plain": [
       "<Figure size 432x288 with 1 Axes>"
      ]
     },
     "metadata": {
      "needs_background": "light"
     },
     "output_type": "display_data"
    }
   ],
   "source": [
    "# hamming point의 평균의 분포 \n",
    "sns.histplot(hamming_means)"
   ]
  },
  {
   "cell_type": "code",
   "execution_count": 227,
   "id": "cc589b51",
   "metadata": {},
   "outputs": [
    {
     "data": {
      "text/plain": [
       "<AxesSubplot:ylabel='Count'>"
      ]
     },
     "execution_count": 227,
     "metadata": {},
     "output_type": "execute_result"
    },
    {
     "data": {
      "image/png": "[encoded data removed]",
      "text/plain": [
       "<Figure size 432x288 with 1 Axes>"
      ]
     },
     "metadata": {
      "needs_background": "light"
     },
     "output_type": "display_data"
    }
   ],
   "source": [
    "# hamming point의 표준편차의 분포\n",
    "sns.histplot(hamming_std)"
   ]
  },
  {
   "cell_type": "code",
   "execution_count": 185,
   "id": "d8af10fd",
   "metadata": {},
   "outputs": [
    {
     "data": {
      "text/plain": [
       "array([0., 0., 0., ..., 0., 3., 2.])"
      ]
     },
     "execution_count": 185,
     "metadata": {},
     "output_type": "execute_result"
    }
   ],
   "source": [
    "#index0(가장최근)게임의 hamming distance들은 다음과 같다. \n",
    "mat_lotto[0]"
   ]
  },
  {
   "cell_type": "code",
   "execution_count": 202,
   "id": "a7f19139",
   "metadata": {},
   "outputs": [],
   "source": [
    "#유사도의 전체적인 분포는 어떻게 될까? 이때 행렬이 대칭 행렬이므로 upper part만 취하도록 한다. \n",
    "ham_dist = np.array([])\n",
    "begin = 1\n",
    "for idx in range(len(mat_lotto)):\n",
    "    ham_dist = np.concatenate((ham_dist, mat_lotto[idx][begin:]))\n",
    "    begin += 1"
   ]
  },
  {
   "cell_type": "code",
   "execution_count": 208,
   "id": "c34fc3e9",
   "metadata": {},
   "outputs": [
    {
     "data": {
      "text/plain": [
       "<AxesSubplot:ylabel='Count'>"
      ]
     },
     "execution_count": 208,
     "metadata": {},
     "output_type": "execute_result"
    },
    {
     "data": {
      "image/png": "[encoded data removed]",
      "text/plain": [
       "<Figure size 432x288 with 1 Axes>"
      ]
     },
     "metadata": {
      "needs_background": "light"
     },
     "output_type": "display_data"
    }
   ],
   "source": [
    "# 중복을 제거한 pairwise hamming distance의 분포\n",
    "plt.xticks(range(8))\n",
    "sns.histplot(ham_dist.reshape(-1,))"
   ]
  },
  {
   "cell_type": "code",
   "execution_count": 169,
   "id": "9daa8f7d",
   "metadata": {},
   "outputs": [
    {
     "data": {
      "text/plain": [
       "array([103, 255, 134, ...,  40, 103,  32])"
      ]
     },
     "execution_count": 169,
     "metadata": {},
     "output_type": "execute_result"
    }
   ],
   "source": [
    "#최대값 hamming distance(가장 유사한 번호 조합)의 게임의 인덱스는 무엇인가?\n",
    "max_idx = mat_lotto.argmax(axis = 1)\n",
    "max_idx"
   ]
  },
  {
   "cell_type": "code",
   "execution_count": 181,
   "id": "bc25ee46",
   "metadata": {},
   "outputs": [
    {
     "data": {
      "text/plain": [
       "array([  103,   254,   132, ..., -1004,  -942, -1014])"
      ]
     },
     "execution_count": 181,
     "metadata": {},
     "output_type": "execute_result"
    }
   ],
   "source": [
    "#최대 dist는 지금으로 부터 얼마전인가?\n",
    "max_dist = max_idx - np.array(range(len(max_idx)))\n",
    "max_dist"
   ]
  },
  {
   "cell_type": "code",
   "execution_count": 183,
   "id": "7a4fe6ee",
   "metadata": {},
   "outputs": [
    {
     "data": {
      "text/plain": [
       "<AxesSubplot:ylabel='Count'>"
      ]
     },
     "execution_count": 183,
     "metadata": {},
     "output_type": "execute_result"
    },
    {
     "data": {
      "image/png": "[encoded data removed]",
      "text/plain": [
       "<Figure size 432x288 with 1 Axes>"
      ]
     },
     "metadata": {
      "needs_background": "light"
     },
     "output_type": "display_data"
    }
   ],
   "source": [
    "#가장 유사했던 게임회차 차이의 분포는?\n",
    "sns.histplot(max_dist, kde= True, bins = 100)"
   ]
  },
  {
   "cell_type": "code",
   "execution_count": null,
   "id": "acb0bae3",
   "metadata": {},
   "outputs": [],
   "source": []
  }
 ],
 "metadata": {
  "kernelspec": {
   "display_name": "Python 3 (ipykernel)",
   "language": "python",
   "name": "python3"
  },
  "language_info": {
   "codemirror_mode": {
    "name": "ipython",
    "version": 3
   },
   "file_extension": ".py",
   "mimetype": "text/x-python",
   "name": "python",
   "nbconvert_exporter": "python",
   "pygments_lexer": "ipython3",
   "version": "3.9.7"
  }
 },
 "nbformat": 4,
 "nbformat_minor": 5
}
